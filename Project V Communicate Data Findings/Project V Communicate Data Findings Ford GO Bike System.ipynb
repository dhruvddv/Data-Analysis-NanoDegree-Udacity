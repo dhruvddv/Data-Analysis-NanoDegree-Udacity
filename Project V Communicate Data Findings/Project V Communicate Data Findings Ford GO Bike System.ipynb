{
 "cells": [
  {
   "cell_type": "markdown",
   "metadata": {
    "slideshow": {
     "slide_type": "slide"
    }
   },
   "source": [
    "#### Introduction\n",
    "This data set includes information about individual rides made in a bike-sharing system covering the greater San Francisco Bay area.\n",
    "Note that this dataset will require some data wrangling in order to make it tidy for analysis. There are multiple cities covered by the linked system, and multiple data files will need to be joined together if a full year’s coverage is desired."
   ]
  },
  {
   "cell_type": "code",
   "execution_count": 1,
   "metadata": {
    "slideshow": {
     "slide_type": "skip"
    }
   },
   "outputs": [],
   "source": [
    "# import all packages and set plots to be embedded inline\n",
    "import numpy as np\n",
    "import pandas as pd\n",
    "import matplotlib.pyplot as plt\n",
    "import seaborn as sb\n",
    "\n",
    "%matplotlib inline"
   ]
  },
  {
   "cell_type": "code",
   "execution_count": 2,
   "metadata": {
    "slideshow": {
     "slide_type": "skip"
    }
   },
   "outputs": [],
   "source": [
    "data = pd.read_csv('201901-fordgobike-tripdata.csv')"
   ]
  },
  {
   "cell_type": "code",
   "execution_count": 3,
   "metadata": {
    "slideshow": {
     "slide_type": "subslide"
    }
   },
   "outputs": [
    {
     "data": {
      "text/html": [
       "<div>\n",
       "<style scoped>\n",
       "    .dataframe tbody tr th:only-of-type {\n",
       "        vertical-align: middle;\n",
       "    }\n",
       "\n",
       "    .dataframe tbody tr th {\n",
       "        vertical-align: top;\n",
       "    }\n",
       "\n",
       "    .dataframe thead th {\n",
       "        text-align: right;\n",
       "    }\n",
       "</style>\n",
       "<table border=\"1\" class=\"dataframe\">\n",
       "  <thead>\n",
       "    <tr style=\"text-align: right;\">\n",
       "      <th></th>\n",
       "      <th>duration_sec</th>\n",
       "      <th>start_time</th>\n",
       "      <th>end_time</th>\n",
       "      <th>start_station_id</th>\n",
       "      <th>start_station_name</th>\n",
       "      <th>start_station_latitude</th>\n",
       "      <th>start_station_longitude</th>\n",
       "      <th>end_station_id</th>\n",
       "      <th>end_station_name</th>\n",
       "      <th>end_station_latitude</th>\n",
       "      <th>end_station_longitude</th>\n",
       "      <th>bike_id</th>\n",
       "      <th>user_type</th>\n",
       "      <th>bike_share_for_all_trip</th>\n",
       "    </tr>\n",
       "  </thead>\n",
       "  <tbody>\n",
       "    <tr>\n",
       "      <th>182579</th>\n",
       "      <td>553</td>\n",
       "      <td>2019-01-03 08:49:58.2720</td>\n",
       "      <td>2019-01-03 08:59:12.2120</td>\n",
       "      <td>41.0</td>\n",
       "      <td>Golden Gate Ave at Polk St</td>\n",
       "      <td>37.781270</td>\n",
       "      <td>-122.418740</td>\n",
       "      <td>47.0</td>\n",
       "      <td>4th St at Harrison St</td>\n",
       "      <td>37.780955</td>\n",
       "      <td>-122.399749</td>\n",
       "      <td>5272</td>\n",
       "      <td>Subscriber</td>\n",
       "      <td>No</td>\n",
       "    </tr>\n",
       "    <tr>\n",
       "      <th>20039</th>\n",
       "      <td>655</td>\n",
       "      <td>2019-01-29 19:07:45.7200</td>\n",
       "      <td>2019-01-29 19:18:41.0660</td>\n",
       "      <td>259.0</td>\n",
       "      <td>Addison St at Fourth St</td>\n",
       "      <td>37.866249</td>\n",
       "      <td>-122.299371</td>\n",
       "      <td>259.0</td>\n",
       "      <td>Addison St at Fourth St</td>\n",
       "      <td>37.866249</td>\n",
       "      <td>-122.299371</td>\n",
       "      <td>4642</td>\n",
       "      <td>Subscriber</td>\n",
       "      <td>No</td>\n",
       "    </tr>\n",
       "    <tr>\n",
       "      <th>42768</th>\n",
       "      <td>613</td>\n",
       "      <td>2019-01-26 23:01:25.9910</td>\n",
       "      <td>2019-01-26 23:11:39.9840</td>\n",
       "      <td>195.0</td>\n",
       "      <td>Bay Pl at Vernon St</td>\n",
       "      <td>37.812314</td>\n",
       "      <td>-122.260779</td>\n",
       "      <td>214.0</td>\n",
       "      <td>Market St at Brockhurst St</td>\n",
       "      <td>37.823321</td>\n",
       "      <td>-122.275732</td>\n",
       "      <td>4640</td>\n",
       "      <td>Subscriber</td>\n",
       "      <td>No</td>\n",
       "    </tr>\n",
       "    <tr>\n",
       "      <th>25024</th>\n",
       "      <td>316</td>\n",
       "      <td>2019-01-29 10:19:21.7680</td>\n",
       "      <td>2019-01-29 10:24:37.7860</td>\n",
       "      <td>28.0</td>\n",
       "      <td>The Embarcadero at Bryant St</td>\n",
       "      <td>37.787168</td>\n",
       "      <td>-122.388098</td>\n",
       "      <td>11.0</td>\n",
       "      <td>Davis St at Jackson St</td>\n",
       "      <td>37.797280</td>\n",
       "      <td>-122.398436</td>\n",
       "      <td>4571</td>\n",
       "      <td>Subscriber</td>\n",
       "      <td>No</td>\n",
       "    </tr>\n",
       "    <tr>\n",
       "      <th>122816</th>\n",
       "      <td>376</td>\n",
       "      <td>2019-01-14 10:43:10.2780</td>\n",
       "      <td>2019-01-14 10:49:26.4930</td>\n",
       "      <td>181.0</td>\n",
       "      <td>Grand Ave at Webster St</td>\n",
       "      <td>37.811377</td>\n",
       "      <td>-122.265192</td>\n",
       "      <td>195.0</td>\n",
       "      <td>Bay Pl at Vernon St</td>\n",
       "      <td>37.812314</td>\n",
       "      <td>-122.260779</td>\n",
       "      <td>4688</td>\n",
       "      <td>Subscriber</td>\n",
       "      <td>Yes</td>\n",
       "    </tr>\n",
       "    <tr>\n",
       "      <th>133150</th>\n",
       "      <td>401</td>\n",
       "      <td>2019-01-12 09:33:05.5700</td>\n",
       "      <td>2019-01-12 09:39:47.2600</td>\n",
       "      <td>324.0</td>\n",
       "      <td>Union Square (Powell St at Post St)</td>\n",
       "      <td>37.788300</td>\n",
       "      <td>-122.408531</td>\n",
       "      <td>368.0</td>\n",
       "      <td>Myrtle St at Polk St</td>\n",
       "      <td>37.785434</td>\n",
       "      <td>-122.419622</td>\n",
       "      <td>475</td>\n",
       "      <td>Subscriber</td>\n",
       "      <td>No</td>\n",
       "    </tr>\n",
       "    <tr>\n",
       "      <th>65735</th>\n",
       "      <td>278</td>\n",
       "      <td>2019-01-24 07:38:13.0780</td>\n",
       "      <td>2019-01-24 07:42:51.9810</td>\n",
       "      <td>16.0</td>\n",
       "      <td>Steuart St at Market St</td>\n",
       "      <td>37.794130</td>\n",
       "      <td>-122.394430</td>\n",
       "      <td>28.0</td>\n",
       "      <td>The Embarcadero at Bryant St</td>\n",
       "      <td>37.787168</td>\n",
       "      <td>-122.388098</td>\n",
       "      <td>3443</td>\n",
       "      <td>Subscriber</td>\n",
       "      <td>No</td>\n",
       "    </tr>\n",
       "    <tr>\n",
       "      <th>115208</th>\n",
       "      <td>6553</td>\n",
       "      <td>2019-01-15 18:48:55.1950</td>\n",
       "      <td>2019-01-15 20:38:08.3270</td>\n",
       "      <td>78.0</td>\n",
       "      <td>Folsom St at 9th St</td>\n",
       "      <td>37.773717</td>\n",
       "      <td>-122.411647</td>\n",
       "      <td>75.0</td>\n",
       "      <td>Market St at Franklin St</td>\n",
       "      <td>37.773793</td>\n",
       "      <td>-122.421239</td>\n",
       "      <td>5577</td>\n",
       "      <td>Subscriber</td>\n",
       "      <td>No</td>\n",
       "    </tr>\n",
       "    <tr>\n",
       "      <th>126039</th>\n",
       "      <td>449</td>\n",
       "      <td>2019-01-13 18:13:19.8830</td>\n",
       "      <td>2019-01-13 18:20:49.2700</td>\n",
       "      <td>58.0</td>\n",
       "      <td>Market St at 10th St</td>\n",
       "      <td>37.776619</td>\n",
       "      <td>-122.417385</td>\n",
       "      <td>98.0</td>\n",
       "      <td>Valencia St at 16th St</td>\n",
       "      <td>37.765052</td>\n",
       "      <td>-122.421866</td>\n",
       "      <td>5306</td>\n",
       "      <td>Subscriber</td>\n",
       "      <td>No</td>\n",
       "    </tr>\n",
       "    <tr>\n",
       "      <th>74835</th>\n",
       "      <td>658</td>\n",
       "      <td>2019-01-23 07:27:52.4800</td>\n",
       "      <td>2019-01-23 07:38:50.8040</td>\n",
       "      <td>70.0</td>\n",
       "      <td>Central Ave at Fell St</td>\n",
       "      <td>37.773311</td>\n",
       "      <td>-122.444293</td>\n",
       "      <td>223.0</td>\n",
       "      <td>16th St Mission BART Station 2</td>\n",
       "      <td>37.764765</td>\n",
       "      <td>-122.420091</td>\n",
       "      <td>5014</td>\n",
       "      <td>Subscriber</td>\n",
       "      <td>No</td>\n",
       "    </tr>\n",
       "    <tr>\n",
       "      <th>35361</th>\n",
       "      <td>383</td>\n",
       "      <td>2019-01-28 09:06:07.7240</td>\n",
       "      <td>2019-01-28 09:12:31.5450</td>\n",
       "      <td>80.0</td>\n",
       "      <td>Townsend St at 5th St</td>\n",
       "      <td>37.775235</td>\n",
       "      <td>-122.397437</td>\n",
       "      <td>77.0</td>\n",
       "      <td>11th St at Natoma St</td>\n",
       "      <td>37.773507</td>\n",
       "      <td>-122.416040</td>\n",
       "      <td>5389</td>\n",
       "      <td>Subscriber</td>\n",
       "      <td>No</td>\n",
       "    </tr>\n",
       "    <tr>\n",
       "      <th>78962</th>\n",
       "      <td>2201</td>\n",
       "      <td>2019-01-22 16:13:19.3090</td>\n",
       "      <td>2019-01-22 16:50:00.7500</td>\n",
       "      <td>109.0</td>\n",
       "      <td>17th St at Valencia St</td>\n",
       "      <td>37.763316</td>\n",
       "      <td>-122.421904</td>\n",
       "      <td>108.0</td>\n",
       "      <td>16th St Mission BART</td>\n",
       "      <td>37.764710</td>\n",
       "      <td>-122.419957</td>\n",
       "      <td>5412</td>\n",
       "      <td>Subscriber</td>\n",
       "      <td>No</td>\n",
       "    </tr>\n",
       "    <tr>\n",
       "      <th>31653</th>\n",
       "      <td>501</td>\n",
       "      <td>2019-01-28 17:08:58.4570</td>\n",
       "      <td>2019-01-28 17:17:19.8100</td>\n",
       "      <td>72.0</td>\n",
       "      <td>Page St at Scott St</td>\n",
       "      <td>37.772406</td>\n",
       "      <td>-122.435650</td>\n",
       "      <td>61.0</td>\n",
       "      <td>Howard St at 8th St</td>\n",
       "      <td>37.776513</td>\n",
       "      <td>-122.411306</td>\n",
       "      <td>4799</td>\n",
       "      <td>Subscriber</td>\n",
       "      <td>No</td>\n",
       "    </tr>\n",
       "    <tr>\n",
       "      <th>174679</th>\n",
       "      <td>783</td>\n",
       "      <td>2019-01-04 13:12:18.8160</td>\n",
       "      <td>2019-01-04 13:25:21.9170</td>\n",
       "      <td>72.0</td>\n",
       "      <td>Page St at Scott St</td>\n",
       "      <td>37.772406</td>\n",
       "      <td>-122.435650</td>\n",
       "      <td>121.0</td>\n",
       "      <td>Mission Playground</td>\n",
       "      <td>37.759210</td>\n",
       "      <td>-122.421339</td>\n",
       "      <td>3148</td>\n",
       "      <td>Subscriber</td>\n",
       "      <td>No</td>\n",
       "    </tr>\n",
       "    <tr>\n",
       "      <th>34012</th>\n",
       "      <td>368</td>\n",
       "      <td>2019-01-28 11:32:40.2690</td>\n",
       "      <td>2019-01-28 11:38:49.2290</td>\n",
       "      <td>242.0</td>\n",
       "      <td>Milvia St at Derby St</td>\n",
       "      <td>37.860125</td>\n",
       "      <td>-122.269384</td>\n",
       "      <td>244.0</td>\n",
       "      <td>Shattuck Ave at Hearst Ave</td>\n",
       "      <td>37.873676</td>\n",
       "      <td>-122.268487</td>\n",
       "      <td>4505</td>\n",
       "      <td>Subscriber</td>\n",
       "      <td>No</td>\n",
       "    </tr>\n",
       "    <tr>\n",
       "      <th>22405</th>\n",
       "      <td>799</td>\n",
       "      <td>2019-01-29 16:51:28.3420</td>\n",
       "      <td>2019-01-29 17:04:47.6770</td>\n",
       "      <td>246.0</td>\n",
       "      <td>Berkeley Civic Center</td>\n",
       "      <td>37.869060</td>\n",
       "      <td>-122.270556</td>\n",
       "      <td>243.0</td>\n",
       "      <td>Bancroft Way at College Ave</td>\n",
       "      <td>37.869360</td>\n",
       "      <td>-122.254337</td>\n",
       "      <td>877</td>\n",
       "      <td>Subscriber</td>\n",
       "      <td>No</td>\n",
       "    </tr>\n",
       "    <tr>\n",
       "      <th>60455</th>\n",
       "      <td>542</td>\n",
       "      <td>2019-01-24 17:06:45.0820</td>\n",
       "      <td>2019-01-24 17:15:48.0810</td>\n",
       "      <td>102.0</td>\n",
       "      <td>Irwin St at 8th St</td>\n",
       "      <td>37.766883</td>\n",
       "      <td>-122.399579</td>\n",
       "      <td>44.0</td>\n",
       "      <td>Civic Center/UN Plaza BART Station (Market St ...</td>\n",
       "      <td>37.781074</td>\n",
       "      <td>-122.411738</td>\n",
       "      <td>4435</td>\n",
       "      <td>Subscriber</td>\n",
       "      <td>No</td>\n",
       "    </tr>\n",
       "    <tr>\n",
       "      <th>22940</th>\n",
       "      <td>527</td>\n",
       "      <td>2019-01-29 16:05:46.0200</td>\n",
       "      <td>2019-01-29 16:14:33.5160</td>\n",
       "      <td>58.0</td>\n",
       "      <td>Market St at 10th St</td>\n",
       "      <td>37.776619</td>\n",
       "      <td>-122.417385</td>\n",
       "      <td>67.0</td>\n",
       "      <td>San Francisco Caltrain Station 2  (Townsend St...</td>\n",
       "      <td>37.776639</td>\n",
       "      <td>-122.395526</td>\n",
       "      <td>4959</td>\n",
       "      <td>Subscriber</td>\n",
       "      <td>No</td>\n",
       "    </tr>\n",
       "    <tr>\n",
       "      <th>171726</th>\n",
       "      <td>381</td>\n",
       "      <td>2019-01-04 19:33:36.0000</td>\n",
       "      <td>2019-01-04 19:39:57.4230</td>\n",
       "      <td>20.0</td>\n",
       "      <td>Mechanics Monument Plaza (Market St at Bush St)</td>\n",
       "      <td>37.791300</td>\n",
       "      <td>-122.399051</td>\n",
       "      <td>15.0</td>\n",
       "      <td>San Francisco Ferry Building (Harry Bridges Pl...</td>\n",
       "      <td>37.795392</td>\n",
       "      <td>-122.394203</td>\n",
       "      <td>3574</td>\n",
       "      <td>Subscriber</td>\n",
       "      <td>No</td>\n",
       "    </tr>\n",
       "    <tr>\n",
       "      <th>179329</th>\n",
       "      <td>362</td>\n",
       "      <td>2019-01-03 17:29:38.9140</td>\n",
       "      <td>2019-01-03 17:35:41.5230</td>\n",
       "      <td>66.0</td>\n",
       "      <td>3rd St at Townsend St</td>\n",
       "      <td>37.778742</td>\n",
       "      <td>-122.392741</td>\n",
       "      <td>21.0</td>\n",
       "      <td>Montgomery St BART Station (Market St at 2nd St)</td>\n",
       "      <td>37.789625</td>\n",
       "      <td>-122.400811</td>\n",
       "      <td>5344</td>\n",
       "      <td>Subscriber</td>\n",
       "      <td>No</td>\n",
       "    </tr>\n",
       "    <tr>\n",
       "      <th>15827</th>\n",
       "      <td>462</td>\n",
       "      <td>2019-01-30 09:36:58.4390</td>\n",
       "      <td>2019-01-30 09:44:40.9230</td>\n",
       "      <td>141.0</td>\n",
       "      <td>Valencia St at Cesar Chavez St</td>\n",
       "      <td>37.747998</td>\n",
       "      <td>-122.420219</td>\n",
       "      <td>129.0</td>\n",
       "      <td>Harrison St at 20th St</td>\n",
       "      <td>37.758862</td>\n",
       "      <td>-122.412544</td>\n",
       "      <td>1498</td>\n",
       "      <td>Subscriber</td>\n",
       "      <td>No</td>\n",
       "    </tr>\n",
       "    <tr>\n",
       "      <th>150222</th>\n",
       "      <td>528</td>\n",
       "      <td>2019-01-09 16:19:27.6970</td>\n",
       "      <td>2019-01-09 16:28:15.7620</td>\n",
       "      <td>363.0</td>\n",
       "      <td>Salesforce Transit Center (Natoma St at 2nd St)</td>\n",
       "      <td>37.787492</td>\n",
       "      <td>-122.398285</td>\n",
       "      <td>30.0</td>\n",
       "      <td>San Francisco Caltrain (Townsend St at 4th St)</td>\n",
       "      <td>37.776598</td>\n",
       "      <td>-122.395282</td>\n",
       "      <td>4732</td>\n",
       "      <td>Subscriber</td>\n",
       "      <td>No</td>\n",
       "    </tr>\n",
       "    <tr>\n",
       "      <th>79191</th>\n",
       "      <td>183</td>\n",
       "      <td>2019-01-22 16:22:48.3940</td>\n",
       "      <td>2019-01-22 16:25:51.4790</td>\n",
       "      <td>245.0</td>\n",
       "      <td>Downtown Berkeley BART</td>\n",
       "      <td>37.870139</td>\n",
       "      <td>-122.268422</td>\n",
       "      <td>238.0</td>\n",
       "      <td>MLK Jr Way at University Ave</td>\n",
       "      <td>37.871719</td>\n",
       "      <td>-122.273068</td>\n",
       "      <td>582</td>\n",
       "      <td>Subscriber</td>\n",
       "      <td>No</td>\n",
       "    </tr>\n",
       "    <tr>\n",
       "      <th>51256</th>\n",
       "      <td>428</td>\n",
       "      <td>2019-01-25 17:01:59.7250</td>\n",
       "      <td>2019-01-25 17:09:08.4040</td>\n",
       "      <td>7.0</td>\n",
       "      <td>Frank H Ogawa Plaza</td>\n",
       "      <td>37.804562</td>\n",
       "      <td>-122.271738</td>\n",
       "      <td>200.0</td>\n",
       "      <td>2nd Ave at E 18th St</td>\n",
       "      <td>37.800214</td>\n",
       "      <td>-122.253810</td>\n",
       "      <td>4914</td>\n",
       "      <td>Subscriber</td>\n",
       "      <td>No</td>\n",
       "    </tr>\n",
       "    <tr>\n",
       "      <th>55194</th>\n",
       "      <td>1785</td>\n",
       "      <td>2019-01-25 08:36:17.4730</td>\n",
       "      <td>2019-01-25 09:06:02.6720</td>\n",
       "      <td>34.0</td>\n",
       "      <td>Father Alfred E Boeddeker Park</td>\n",
       "      <td>37.783988</td>\n",
       "      <td>-122.412408</td>\n",
       "      <td>371.0</td>\n",
       "      <td>Lombard St at Columbus Ave</td>\n",
       "      <td>37.802746</td>\n",
       "      <td>-122.413579</td>\n",
       "      <td>5524</td>\n",
       "      <td>Customer</td>\n",
       "      <td>No</td>\n",
       "    </tr>\n",
       "    <tr>\n",
       "      <th>152927</th>\n",
       "      <td>1157</td>\n",
       "      <td>2019-01-09 08:23:04.9470</td>\n",
       "      <td>2019-01-09 08:42:22.1050</td>\n",
       "      <td>147.0</td>\n",
       "      <td>29th St at Tiffany Ave</td>\n",
       "      <td>37.744067</td>\n",
       "      <td>-122.421472</td>\n",
       "      <td>93.0</td>\n",
       "      <td>4th St at Mission Bay Blvd S</td>\n",
       "      <td>37.770407</td>\n",
       "      <td>-122.391198</td>\n",
       "      <td>4794</td>\n",
       "      <td>Subscriber</td>\n",
       "      <td>No</td>\n",
       "    </tr>\n",
       "    <tr>\n",
       "      <th>97328</th>\n",
       "      <td>680</td>\n",
       "      <td>2019-01-18 21:19:02.0320</td>\n",
       "      <td>2019-01-18 21:30:22.2570</td>\n",
       "      <td>251.0</td>\n",
       "      <td>California St at University Ave</td>\n",
       "      <td>37.870555</td>\n",
       "      <td>-122.279720</td>\n",
       "      <td>253.0</td>\n",
       "      <td>Haste St at College Ave</td>\n",
       "      <td>37.866418</td>\n",
       "      <td>-122.253799</td>\n",
       "      <td>5042</td>\n",
       "      <td>Subscriber</td>\n",
       "      <td>No</td>\n",
       "    </tr>\n",
       "    <tr>\n",
       "      <th>25889</th>\n",
       "      <td>488</td>\n",
       "      <td>2019-01-29 09:09:12.0800</td>\n",
       "      <td>2019-01-29 09:17:20.3510</td>\n",
       "      <td>22.0</td>\n",
       "      <td>Howard St at Beale St</td>\n",
       "      <td>37.789756</td>\n",
       "      <td>-122.394643</td>\n",
       "      <td>10.0</td>\n",
       "      <td>Washington St at Kearny St</td>\n",
       "      <td>37.795393</td>\n",
       "      <td>-122.404770</td>\n",
       "      <td>3319</td>\n",
       "      <td>Subscriber</td>\n",
       "      <td>No</td>\n",
       "    </tr>\n",
       "    <tr>\n",
       "      <th>75306</th>\n",
       "      <td>571</td>\n",
       "      <td>2019-01-23 05:41:10.5370</td>\n",
       "      <td>2019-01-23 05:50:42.4180</td>\n",
       "      <td>336.0</td>\n",
       "      <td>Potrero Ave and Mariposa St</td>\n",
       "      <td>37.763281</td>\n",
       "      <td>-122.407377</td>\n",
       "      <td>368.0</td>\n",
       "      <td>Myrtle St at Polk St</td>\n",
       "      <td>37.785434</td>\n",
       "      <td>-122.419622</td>\n",
       "      <td>5339</td>\n",
       "      <td>Subscriber</td>\n",
       "      <td>No</td>\n",
       "    </tr>\n",
       "    <tr>\n",
       "      <th>152665</th>\n",
       "      <td>925</td>\n",
       "      <td>2019-01-09 08:41:59.9540</td>\n",
       "      <td>2019-01-09 08:57:25.3640</td>\n",
       "      <td>345.0</td>\n",
       "      <td>Hubbell St at 16th St</td>\n",
       "      <td>37.766474</td>\n",
       "      <td>-122.398295</td>\n",
       "      <td>16.0</td>\n",
       "      <td>Steuart St at Market St</td>\n",
       "      <td>37.794130</td>\n",
       "      <td>-122.394430</td>\n",
       "      <td>4647</td>\n",
       "      <td>Subscriber</td>\n",
       "      <td>No</td>\n",
       "    </tr>\n",
       "    <tr>\n",
       "      <th>164035</th>\n",
       "      <td>496</td>\n",
       "      <td>2019-01-07 17:04:14.2220</td>\n",
       "      <td>2019-01-07 17:12:30.4370</td>\n",
       "      <td>77.0</td>\n",
       "      <td>11th St at Natoma St</td>\n",
       "      <td>37.773507</td>\n",
       "      <td>-122.416040</td>\n",
       "      <td>67.0</td>\n",
       "      <td>San Francisco Caltrain Station 2  (Townsend St...</td>\n",
       "      <td>37.776639</td>\n",
       "      <td>-122.395526</td>\n",
       "      <td>5113</td>\n",
       "      <td>Subscriber</td>\n",
       "      <td>No</td>\n",
       "    </tr>\n",
       "    <tr>\n",
       "      <th>150200</th>\n",
       "      <td>279</td>\n",
       "      <td>2019-01-09 16:26:30.5320</td>\n",
       "      <td>2019-01-09 16:31:09.8200</td>\n",
       "      <td>7.0</td>\n",
       "      <td>Frank H Ogawa Plaza</td>\n",
       "      <td>37.804562</td>\n",
       "      <td>-122.271738</td>\n",
       "      <td>186.0</td>\n",
       "      <td>Lakeside Dr at 14th St</td>\n",
       "      <td>37.801319</td>\n",
       "      <td>-122.262642</td>\n",
       "      <td>5414</td>\n",
       "      <td>Subscriber</td>\n",
       "      <td>No</td>\n",
       "    </tr>\n",
       "    <tr>\n",
       "      <th>63988</th>\n",
       "      <td>226</td>\n",
       "      <td>2019-01-24 09:19:39.1050</td>\n",
       "      <td>2019-01-24 09:23:25.1170</td>\n",
       "      <td>372.0</td>\n",
       "      <td>Madison St at 17th St</td>\n",
       "      <td>37.804037</td>\n",
       "      <td>-122.262409</td>\n",
       "      <td>163.0</td>\n",
       "      <td>Lake Merritt BART Station</td>\n",
       "      <td>37.797320</td>\n",
       "      <td>-122.265320</td>\n",
       "      <td>4884</td>\n",
       "      <td>Subscriber</td>\n",
       "      <td>No</td>\n",
       "    </tr>\n",
       "    <tr>\n",
       "      <th>172084</th>\n",
       "      <td>501</td>\n",
       "      <td>2019-01-04 18:34:18.1320</td>\n",
       "      <td>2019-01-04 18:42:39.9960</td>\n",
       "      <td>77.0</td>\n",
       "      <td>11th St at Natoma St</td>\n",
       "      <td>37.773507</td>\n",
       "      <td>-122.416040</td>\n",
       "      <td>67.0</td>\n",
       "      <td>San Francisco Caltrain Station 2  (Townsend St...</td>\n",
       "      <td>37.776639</td>\n",
       "      <td>-122.395526</td>\n",
       "      <td>4756</td>\n",
       "      <td>Subscriber</td>\n",
       "      <td>No</td>\n",
       "    </tr>\n",
       "    <tr>\n",
       "      <th>9481</th>\n",
       "      <td>747</td>\n",
       "      <td>2019-01-30 22:00:26.8200</td>\n",
       "      <td>2019-01-30 22:12:54.1210</td>\n",
       "      <td>345.0</td>\n",
       "      <td>Hubbell St at 16th St</td>\n",
       "      <td>37.766474</td>\n",
       "      <td>-122.398295</td>\n",
       "      <td>47.0</td>\n",
       "      <td>4th St at Harrison St</td>\n",
       "      <td>37.780955</td>\n",
       "      <td>-122.399749</td>\n",
       "      <td>5105</td>\n",
       "      <td>Subscriber</td>\n",
       "      <td>No</td>\n",
       "    </tr>\n",
       "    <tr>\n",
       "      <th>116217</th>\n",
       "      <td>497</td>\n",
       "      <td>2019-01-15 17:07:13.5020</td>\n",
       "      <td>2019-01-15 17:15:31.1940</td>\n",
       "      <td>3.0</td>\n",
       "      <td>Powell St BART Station (Market St at 4th St)</td>\n",
       "      <td>37.786375</td>\n",
       "      <td>-122.404904</td>\n",
       "      <td>41.0</td>\n",
       "      <td>Golden Gate Ave at Polk St</td>\n",
       "      <td>37.781270</td>\n",
       "      <td>-122.418740</td>\n",
       "      <td>5013</td>\n",
       "      <td>Subscriber</td>\n",
       "      <td>No</td>\n",
       "    </tr>\n",
       "    <tr>\n",
       "      <th>5247</th>\n",
       "      <td>6523</td>\n",
       "      <td>2019-01-31 11:52:54.4350</td>\n",
       "      <td>2019-01-31 13:41:37.8660</td>\n",
       "      <td>19.0</td>\n",
       "      <td>Post St at Kearny St</td>\n",
       "      <td>37.788975</td>\n",
       "      <td>-122.403452</td>\n",
       "      <td>380.0</td>\n",
       "      <td>Masonic Ave at Turk St</td>\n",
       "      <td>37.779047</td>\n",
       "      <td>-122.447291</td>\n",
       "      <td>5541</td>\n",
       "      <td>Customer</td>\n",
       "      <td>No</td>\n",
       "    </tr>\n",
       "    <tr>\n",
       "      <th>55982</th>\n",
       "      <td>1166</td>\n",
       "      <td>2019-01-25 08:06:06.1520</td>\n",
       "      <td>2019-01-25 08:25:33.1030</td>\n",
       "      <td>356.0</td>\n",
       "      <td>Valencia St at Clinton Park</td>\n",
       "      <td>37.769188</td>\n",
       "      <td>-122.422285</td>\n",
       "      <td>14.0</td>\n",
       "      <td>Clay St at Battery St</td>\n",
       "      <td>37.795001</td>\n",
       "      <td>-122.399970</td>\n",
       "      <td>1226</td>\n",
       "      <td>Subscriber</td>\n",
       "      <td>No</td>\n",
       "    </tr>\n",
       "    <tr>\n",
       "      <th>24938</th>\n",
       "      <td>1514</td>\n",
       "      <td>2019-01-29 10:12:30.3410</td>\n",
       "      <td>2019-01-29 10:37:44.8490</td>\n",
       "      <td>30.0</td>\n",
       "      <td>San Francisco Caltrain (Townsend St at 4th St)</td>\n",
       "      <td>37.776598</td>\n",
       "      <td>-122.395282</td>\n",
       "      <td>73.0</td>\n",
       "      <td>Pierce St at Haight St</td>\n",
       "      <td>37.771793</td>\n",
       "      <td>-122.433708</td>\n",
       "      <td>2571</td>\n",
       "      <td>Customer</td>\n",
       "      <td>No</td>\n",
       "    </tr>\n",
       "    <tr>\n",
       "      <th>124365</th>\n",
       "      <td>705</td>\n",
       "      <td>2019-01-14 08:10:38.8180</td>\n",
       "      <td>2019-01-14 08:22:24.2710</td>\n",
       "      <td>102.0</td>\n",
       "      <td>Irwin St at 8th St</td>\n",
       "      <td>37.766883</td>\n",
       "      <td>-122.399579</td>\n",
       "      <td>22.0</td>\n",
       "      <td>Howard St at Beale St</td>\n",
       "      <td>37.789756</td>\n",
       "      <td>-122.394643</td>\n",
       "      <td>5032</td>\n",
       "      <td>Subscriber</td>\n",
       "      <td>No</td>\n",
       "    </tr>\n",
       "    <tr>\n",
       "      <th>168690</th>\n",
       "      <td>260</td>\n",
       "      <td>2019-01-06 10:53:14.9650</td>\n",
       "      <td>2019-01-06 10:57:35.6350</td>\n",
       "      <td>196.0</td>\n",
       "      <td>Grand Ave at Perkins St</td>\n",
       "      <td>37.808894</td>\n",
       "      <td>-122.256460</td>\n",
       "      <td>182.0</td>\n",
       "      <td>19th Street BART Station</td>\n",
       "      <td>37.809013</td>\n",
       "      <td>-122.268247</td>\n",
       "      <td>4775</td>\n",
       "      <td>Subscriber</td>\n",
       "      <td>No</td>\n",
       "    </tr>\n",
       "    <tr>\n",
       "      <th>19188</th>\n",
       "      <td>505</td>\n",
       "      <td>2019-01-29 21:03:47.8270</td>\n",
       "      <td>2019-01-29 21:12:13.2560</td>\n",
       "      <td>109.0</td>\n",
       "      <td>17th St at Valencia St</td>\n",
       "      <td>37.763316</td>\n",
       "      <td>-122.421904</td>\n",
       "      <td>136.0</td>\n",
       "      <td>23rd St at San Bruno Ave</td>\n",
       "      <td>37.754436</td>\n",
       "      <td>-122.404364</td>\n",
       "      <td>5524</td>\n",
       "      <td>Subscriber</td>\n",
       "      <td>No</td>\n",
       "    </tr>\n",
       "    <tr>\n",
       "      <th>46791</th>\n",
       "      <td>550</td>\n",
       "      <td>2019-01-26 12:07:36.8310</td>\n",
       "      <td>2019-01-26 12:16:47.3390</td>\n",
       "      <td>197.0</td>\n",
       "      <td>El Embarcadero at Grand Ave</td>\n",
       "      <td>37.808848</td>\n",
       "      <td>-122.249680</td>\n",
       "      <td>182.0</td>\n",
       "      <td>19th Street BART Station</td>\n",
       "      <td>37.809013</td>\n",
       "      <td>-122.268247</td>\n",
       "      <td>4510</td>\n",
       "      <td>Subscriber</td>\n",
       "      <td>No</td>\n",
       "    </tr>\n",
       "    <tr>\n",
       "      <th>19887</th>\n",
       "      <td>948</td>\n",
       "      <td>2019-01-29 19:18:20.3260</td>\n",
       "      <td>2019-01-29 19:34:09.2840</td>\n",
       "      <td>22.0</td>\n",
       "      <td>Howard St at Beale St</td>\n",
       "      <td>37.789756</td>\n",
       "      <td>-122.394643</td>\n",
       "      <td>133.0</td>\n",
       "      <td>Valencia St at 22nd St</td>\n",
       "      <td>37.755213</td>\n",
       "      <td>-122.420975</td>\n",
       "      <td>4826</td>\n",
       "      <td>Subscriber</td>\n",
       "      <td>No</td>\n",
       "    </tr>\n",
       "    <tr>\n",
       "      <th>113295</th>\n",
       "      <td>501</td>\n",
       "      <td>2019-01-16 08:53:01.4680</td>\n",
       "      <td>2019-01-16 09:01:22.5930</td>\n",
       "      <td>127.0</td>\n",
       "      <td>Valencia St at 21st St</td>\n",
       "      <td>37.756708</td>\n",
       "      <td>-122.421025</td>\n",
       "      <td>58.0</td>\n",
       "      <td>Market St at 10th St</td>\n",
       "      <td>37.776619</td>\n",
       "      <td>-122.417385</td>\n",
       "      <td>4318</td>\n",
       "      <td>Subscriber</td>\n",
       "      <td>No</td>\n",
       "    </tr>\n",
       "    <tr>\n",
       "      <th>116797</th>\n",
       "      <td>762</td>\n",
       "      <td>2019-01-15 11:32:37.2440</td>\n",
       "      <td>2019-01-15 11:45:19.2980</td>\n",
       "      <td>266.0</td>\n",
       "      <td>Parker St at Fulton St</td>\n",
       "      <td>37.862464</td>\n",
       "      <td>-122.264791</td>\n",
       "      <td>239.0</td>\n",
       "      <td>Bancroft Way at Telegraph Ave</td>\n",
       "      <td>37.868813</td>\n",
       "      <td>-122.258764</td>\n",
       "      <td>4913</td>\n",
       "      <td>Subscriber</td>\n",
       "      <td>No</td>\n",
       "    </tr>\n",
       "    <tr>\n",
       "      <th>89405</th>\n",
       "      <td>478</td>\n",
       "      <td>2019-01-21 00:18:36.4430</td>\n",
       "      <td>2019-01-21 00:26:34.9490</td>\n",
       "      <td>166.0</td>\n",
       "      <td>College Ave at Alcatraz Ave</td>\n",
       "      <td>37.851376</td>\n",
       "      <td>-122.252523</td>\n",
       "      <td>243.0</td>\n",
       "      <td>Bancroft Way at College Ave</td>\n",
       "      <td>37.869360</td>\n",
       "      <td>-122.254337</td>\n",
       "      <td>5129</td>\n",
       "      <td>Subscriber</td>\n",
       "      <td>Yes</td>\n",
       "    </tr>\n",
       "    <tr>\n",
       "      <th>84614</th>\n",
       "      <td>1499</td>\n",
       "      <td>2019-01-21 19:47:22.1830</td>\n",
       "      <td>2019-01-21 20:12:21.5600</td>\n",
       "      <td>15.0</td>\n",
       "      <td>San Francisco Ferry Building (Harry Bridges Pl...</td>\n",
       "      <td>37.795392</td>\n",
       "      <td>-122.394203</td>\n",
       "      <td>133.0</td>\n",
       "      <td>Valencia St at 22nd St</td>\n",
       "      <td>37.755213</td>\n",
       "      <td>-122.420975</td>\n",
       "      <td>5031</td>\n",
       "      <td>Subscriber</td>\n",
       "      <td>No</td>\n",
       "    </tr>\n",
       "    <tr>\n",
       "      <th>26265</th>\n",
       "      <td>643</td>\n",
       "      <td>2019-01-29 08:48:06.4690</td>\n",
       "      <td>2019-01-29 08:58:49.7790</td>\n",
       "      <td>31.0</td>\n",
       "      <td>Raymond Kimbell Playground</td>\n",
       "      <td>37.783813</td>\n",
       "      <td>-122.434559</td>\n",
       "      <td>5.0</td>\n",
       "      <td>Powell St BART Station (Market St at 5th St)</td>\n",
       "      <td>37.783899</td>\n",
       "      <td>-122.408445</td>\n",
       "      <td>5006</td>\n",
       "      <td>Subscriber</td>\n",
       "      <td>No</td>\n",
       "    </tr>\n",
       "    <tr>\n",
       "      <th>170220</th>\n",
       "      <td>290</td>\n",
       "      <td>2019-01-05 13:01:15.2600</td>\n",
       "      <td>2019-01-05 13:06:05.9250</td>\n",
       "      <td>107.0</td>\n",
       "      <td>17th St at Dolores St</td>\n",
       "      <td>37.763015</td>\n",
       "      <td>-122.426497</td>\n",
       "      <td>110.0</td>\n",
       "      <td>17th &amp; Folsom Street Park (17th St at Folsom St)</td>\n",
       "      <td>37.763708</td>\n",
       "      <td>-122.415204</td>\n",
       "      <td>4659</td>\n",
       "      <td>Subscriber</td>\n",
       "      <td>No</td>\n",
       "    </tr>\n",
       "  </tbody>\n",
       "</table>\n",
       "</div>"
      ],
      "text/plain": [
       "        duration_sec                start_time                  end_time  \\\n",
       "182579           553  2019-01-03 08:49:58.2720  2019-01-03 08:59:12.2120   \n",
       "20039            655  2019-01-29 19:07:45.7200  2019-01-29 19:18:41.0660   \n",
       "42768            613  2019-01-26 23:01:25.9910  2019-01-26 23:11:39.9840   \n",
       "25024            316  2019-01-29 10:19:21.7680  2019-01-29 10:24:37.7860   \n",
       "122816           376  2019-01-14 10:43:10.2780  2019-01-14 10:49:26.4930   \n",
       "133150           401  2019-01-12 09:33:05.5700  2019-01-12 09:39:47.2600   \n",
       "65735            278  2019-01-24 07:38:13.0780  2019-01-24 07:42:51.9810   \n",
       "115208          6553  2019-01-15 18:48:55.1950  2019-01-15 20:38:08.3270   \n",
       "126039           449  2019-01-13 18:13:19.8830  2019-01-13 18:20:49.2700   \n",
       "74835            658  2019-01-23 07:27:52.4800  2019-01-23 07:38:50.8040   \n",
       "35361            383  2019-01-28 09:06:07.7240  2019-01-28 09:12:31.5450   \n",
       "78962           2201  2019-01-22 16:13:19.3090  2019-01-22 16:50:00.7500   \n",
       "31653            501  2019-01-28 17:08:58.4570  2019-01-28 17:17:19.8100   \n",
       "174679           783  2019-01-04 13:12:18.8160  2019-01-04 13:25:21.9170   \n",
       "34012            368  2019-01-28 11:32:40.2690  2019-01-28 11:38:49.2290   \n",
       "22405            799  2019-01-29 16:51:28.3420  2019-01-29 17:04:47.6770   \n",
       "60455            542  2019-01-24 17:06:45.0820  2019-01-24 17:15:48.0810   \n",
       "22940            527  2019-01-29 16:05:46.0200  2019-01-29 16:14:33.5160   \n",
       "171726           381  2019-01-04 19:33:36.0000  2019-01-04 19:39:57.4230   \n",
       "179329           362  2019-01-03 17:29:38.9140  2019-01-03 17:35:41.5230   \n",
       "15827            462  2019-01-30 09:36:58.4390  2019-01-30 09:44:40.9230   \n",
       "150222           528  2019-01-09 16:19:27.6970  2019-01-09 16:28:15.7620   \n",
       "79191            183  2019-01-22 16:22:48.3940  2019-01-22 16:25:51.4790   \n",
       "51256            428  2019-01-25 17:01:59.7250  2019-01-25 17:09:08.4040   \n",
       "55194           1785  2019-01-25 08:36:17.4730  2019-01-25 09:06:02.6720   \n",
       "152927          1157  2019-01-09 08:23:04.9470  2019-01-09 08:42:22.1050   \n",
       "97328            680  2019-01-18 21:19:02.0320  2019-01-18 21:30:22.2570   \n",
       "25889            488  2019-01-29 09:09:12.0800  2019-01-29 09:17:20.3510   \n",
       "75306            571  2019-01-23 05:41:10.5370  2019-01-23 05:50:42.4180   \n",
       "152665           925  2019-01-09 08:41:59.9540  2019-01-09 08:57:25.3640   \n",
       "164035           496  2019-01-07 17:04:14.2220  2019-01-07 17:12:30.4370   \n",
       "150200           279  2019-01-09 16:26:30.5320  2019-01-09 16:31:09.8200   \n",
       "63988            226  2019-01-24 09:19:39.1050  2019-01-24 09:23:25.1170   \n",
       "172084           501  2019-01-04 18:34:18.1320  2019-01-04 18:42:39.9960   \n",
       "9481             747  2019-01-30 22:00:26.8200  2019-01-30 22:12:54.1210   \n",
       "116217           497  2019-01-15 17:07:13.5020  2019-01-15 17:15:31.1940   \n",
       "5247            6523  2019-01-31 11:52:54.4350  2019-01-31 13:41:37.8660   \n",
       "55982           1166  2019-01-25 08:06:06.1520  2019-01-25 08:25:33.1030   \n",
       "24938           1514  2019-01-29 10:12:30.3410  2019-01-29 10:37:44.8490   \n",
       "124365           705  2019-01-14 08:10:38.8180  2019-01-14 08:22:24.2710   \n",
       "168690           260  2019-01-06 10:53:14.9650  2019-01-06 10:57:35.6350   \n",
       "19188            505  2019-01-29 21:03:47.8270  2019-01-29 21:12:13.2560   \n",
       "46791            550  2019-01-26 12:07:36.8310  2019-01-26 12:16:47.3390   \n",
       "19887            948  2019-01-29 19:18:20.3260  2019-01-29 19:34:09.2840   \n",
       "113295           501  2019-01-16 08:53:01.4680  2019-01-16 09:01:22.5930   \n",
       "116797           762  2019-01-15 11:32:37.2440  2019-01-15 11:45:19.2980   \n",
       "89405            478  2019-01-21 00:18:36.4430  2019-01-21 00:26:34.9490   \n",
       "84614           1499  2019-01-21 19:47:22.1830  2019-01-21 20:12:21.5600   \n",
       "26265            643  2019-01-29 08:48:06.4690  2019-01-29 08:58:49.7790   \n",
       "170220           290  2019-01-05 13:01:15.2600  2019-01-05 13:06:05.9250   \n",
       "\n",
       "        start_station_id                                 start_station_name  \\\n",
       "182579              41.0                         Golden Gate Ave at Polk St   \n",
       "20039              259.0                            Addison St at Fourth St   \n",
       "42768              195.0                                Bay Pl at Vernon St   \n",
       "25024               28.0                       The Embarcadero at Bryant St   \n",
       "122816             181.0                            Grand Ave at Webster St   \n",
       "133150             324.0                Union Square (Powell St at Post St)   \n",
       "65735               16.0                            Steuart St at Market St   \n",
       "115208              78.0                                Folsom St at 9th St   \n",
       "126039              58.0                               Market St at 10th St   \n",
       "74835               70.0                             Central Ave at Fell St   \n",
       "35361               80.0                              Townsend St at 5th St   \n",
       "78962              109.0                             17th St at Valencia St   \n",
       "31653               72.0                                Page St at Scott St   \n",
       "174679              72.0                                Page St at Scott St   \n",
       "34012              242.0                              Milvia St at Derby St   \n",
       "22405              246.0                              Berkeley Civic Center   \n",
       "60455              102.0                                 Irwin St at 8th St   \n",
       "22940               58.0                               Market St at 10th St   \n",
       "171726              20.0    Mechanics Monument Plaza (Market St at Bush St)   \n",
       "179329              66.0                              3rd St at Townsend St   \n",
       "15827              141.0                     Valencia St at Cesar Chavez St   \n",
       "150222             363.0    Salesforce Transit Center (Natoma St at 2nd St)   \n",
       "79191              245.0                             Downtown Berkeley BART   \n",
       "51256                7.0                                Frank H Ogawa Plaza   \n",
       "55194               34.0                     Father Alfred E Boeddeker Park   \n",
       "152927             147.0                             29th St at Tiffany Ave   \n",
       "97328              251.0                    California St at University Ave   \n",
       "25889               22.0                              Howard St at Beale St   \n",
       "75306              336.0                        Potrero Ave and Mariposa St   \n",
       "152665             345.0                              Hubbell St at 16th St   \n",
       "164035              77.0                               11th St at Natoma St   \n",
       "150200               7.0                                Frank H Ogawa Plaza   \n",
       "63988              372.0                              Madison St at 17th St   \n",
       "172084              77.0                               11th St at Natoma St   \n",
       "9481               345.0                              Hubbell St at 16th St   \n",
       "116217               3.0       Powell St BART Station (Market St at 4th St)   \n",
       "5247                19.0                               Post St at Kearny St   \n",
       "55982              356.0                        Valencia St at Clinton Park   \n",
       "24938               30.0     San Francisco Caltrain (Townsend St at 4th St)   \n",
       "124365             102.0                                 Irwin St at 8th St   \n",
       "168690             196.0                            Grand Ave at Perkins St   \n",
       "19188              109.0                             17th St at Valencia St   \n",
       "46791              197.0                        El Embarcadero at Grand Ave   \n",
       "19887               22.0                              Howard St at Beale St   \n",
       "113295             127.0                             Valencia St at 21st St   \n",
       "116797             266.0                             Parker St at Fulton St   \n",
       "89405              166.0                        College Ave at Alcatraz Ave   \n",
       "84614               15.0  San Francisco Ferry Building (Harry Bridges Pl...   \n",
       "26265               31.0                         Raymond Kimbell Playground   \n",
       "170220             107.0                              17th St at Dolores St   \n",
       "\n",
       "        start_station_latitude  start_station_longitude  end_station_id  \\\n",
       "182579               37.781270              -122.418740            47.0   \n",
       "20039                37.866249              -122.299371           259.0   \n",
       "42768                37.812314              -122.260779           214.0   \n",
       "25024                37.787168              -122.388098            11.0   \n",
       "122816               37.811377              -122.265192           195.0   \n",
       "133150               37.788300              -122.408531           368.0   \n",
       "65735                37.794130              -122.394430            28.0   \n",
       "115208               37.773717              -122.411647            75.0   \n",
       "126039               37.776619              -122.417385            98.0   \n",
       "74835                37.773311              -122.444293           223.0   \n",
       "35361                37.775235              -122.397437            77.0   \n",
       "78962                37.763316              -122.421904           108.0   \n",
       "31653                37.772406              -122.435650            61.0   \n",
       "174679               37.772406              -122.435650           121.0   \n",
       "34012                37.860125              -122.269384           244.0   \n",
       "22405                37.869060              -122.270556           243.0   \n",
       "60455                37.766883              -122.399579            44.0   \n",
       "22940                37.776619              -122.417385            67.0   \n",
       "171726               37.791300              -122.399051            15.0   \n",
       "179329               37.778742              -122.392741            21.0   \n",
       "15827                37.747998              -122.420219           129.0   \n",
       "150222               37.787492              -122.398285            30.0   \n",
       "79191                37.870139              -122.268422           238.0   \n",
       "51256                37.804562              -122.271738           200.0   \n",
       "55194                37.783988              -122.412408           371.0   \n",
       "152927               37.744067              -122.421472            93.0   \n",
       "97328                37.870555              -122.279720           253.0   \n",
       "25889                37.789756              -122.394643            10.0   \n",
       "75306                37.763281              -122.407377           368.0   \n",
       "152665               37.766474              -122.398295            16.0   \n",
       "164035               37.773507              -122.416040            67.0   \n",
       "150200               37.804562              -122.271738           186.0   \n",
       "63988                37.804037              -122.262409           163.0   \n",
       "172084               37.773507              -122.416040            67.0   \n",
       "9481                 37.766474              -122.398295            47.0   \n",
       "116217               37.786375              -122.404904            41.0   \n",
       "5247                 37.788975              -122.403452           380.0   \n",
       "55982                37.769188              -122.422285            14.0   \n",
       "24938                37.776598              -122.395282            73.0   \n",
       "124365               37.766883              -122.399579            22.0   \n",
       "168690               37.808894              -122.256460           182.0   \n",
       "19188                37.763316              -122.421904           136.0   \n",
       "46791                37.808848              -122.249680           182.0   \n",
       "19887                37.789756              -122.394643           133.0   \n",
       "113295               37.756708              -122.421025            58.0   \n",
       "116797               37.862464              -122.264791           239.0   \n",
       "89405                37.851376              -122.252523           243.0   \n",
       "84614                37.795392              -122.394203           133.0   \n",
       "26265                37.783813              -122.434559             5.0   \n",
       "170220               37.763015              -122.426497           110.0   \n",
       "\n",
       "                                         end_station_name  \\\n",
       "182579                              4th St at Harrison St   \n",
       "20039                             Addison St at Fourth St   \n",
       "42768                          Market St at Brockhurst St   \n",
       "25024                              Davis St at Jackson St   \n",
       "122816                                Bay Pl at Vernon St   \n",
       "133150                               Myrtle St at Polk St   \n",
       "65735                        The Embarcadero at Bryant St   \n",
       "115208                           Market St at Franklin St   \n",
       "126039                             Valencia St at 16th St   \n",
       "74835                      16th St Mission BART Station 2   \n",
       "35361                                11th St at Natoma St   \n",
       "78962                                16th St Mission BART   \n",
       "31653                                 Howard St at 8th St   \n",
       "174679                                 Mission Playground   \n",
       "34012                          Shattuck Ave at Hearst Ave   \n",
       "22405                         Bancroft Way at College Ave   \n",
       "60455   Civic Center/UN Plaza BART Station (Market St ...   \n",
       "22940   San Francisco Caltrain Station 2  (Townsend St...   \n",
       "171726  San Francisco Ferry Building (Harry Bridges Pl...   \n",
       "179329   Montgomery St BART Station (Market St at 2nd St)   \n",
       "15827                              Harrison St at 20th St   \n",
       "150222     San Francisco Caltrain (Townsend St at 4th St)   \n",
       "79191                        MLK Jr Way at University Ave   \n",
       "51256                                2nd Ave at E 18th St   \n",
       "55194                          Lombard St at Columbus Ave   \n",
       "152927                       4th St at Mission Bay Blvd S   \n",
       "97328                             Haste St at College Ave   \n",
       "25889                          Washington St at Kearny St   \n",
       "75306                                Myrtle St at Polk St   \n",
       "152665                            Steuart St at Market St   \n",
       "164035  San Francisco Caltrain Station 2  (Townsend St...   \n",
       "150200                             Lakeside Dr at 14th St   \n",
       "63988                           Lake Merritt BART Station   \n",
       "172084  San Francisco Caltrain Station 2  (Townsend St...   \n",
       "9481                                4th St at Harrison St   \n",
       "116217                         Golden Gate Ave at Polk St   \n",
       "5247                               Masonic Ave at Turk St   \n",
       "55982                               Clay St at Battery St   \n",
       "24938                              Pierce St at Haight St   \n",
       "124365                              Howard St at Beale St   \n",
       "168690                           19th Street BART Station   \n",
       "19188                            23rd St at San Bruno Ave   \n",
       "46791                            19th Street BART Station   \n",
       "19887                              Valencia St at 22nd St   \n",
       "113295                               Market St at 10th St   \n",
       "116797                      Bancroft Way at Telegraph Ave   \n",
       "89405                         Bancroft Way at College Ave   \n",
       "84614                              Valencia St at 22nd St   \n",
       "26265        Powell St BART Station (Market St at 5th St)   \n",
       "170220   17th & Folsom Street Park (17th St at Folsom St)   \n",
       "\n",
       "        end_station_latitude  end_station_longitude  bike_id   user_type  \\\n",
       "182579             37.780955            -122.399749     5272  Subscriber   \n",
       "20039              37.866249            -122.299371     4642  Subscriber   \n",
       "42768              37.823321            -122.275732     4640  Subscriber   \n",
       "25024              37.797280            -122.398436     4571  Subscriber   \n",
       "122816             37.812314            -122.260779     4688  Subscriber   \n",
       "133150             37.785434            -122.419622      475  Subscriber   \n",
       "65735              37.787168            -122.388098     3443  Subscriber   \n",
       "115208             37.773793            -122.421239     5577  Subscriber   \n",
       "126039             37.765052            -122.421866     5306  Subscriber   \n",
       "74835              37.764765            -122.420091     5014  Subscriber   \n",
       "35361              37.773507            -122.416040     5389  Subscriber   \n",
       "78962              37.764710            -122.419957     5412  Subscriber   \n",
       "31653              37.776513            -122.411306     4799  Subscriber   \n",
       "174679             37.759210            -122.421339     3148  Subscriber   \n",
       "34012              37.873676            -122.268487     4505  Subscriber   \n",
       "22405              37.869360            -122.254337      877  Subscriber   \n",
       "60455              37.781074            -122.411738     4435  Subscriber   \n",
       "22940              37.776639            -122.395526     4959  Subscriber   \n",
       "171726             37.795392            -122.394203     3574  Subscriber   \n",
       "179329             37.789625            -122.400811     5344  Subscriber   \n",
       "15827              37.758862            -122.412544     1498  Subscriber   \n",
       "150222             37.776598            -122.395282     4732  Subscriber   \n",
       "79191              37.871719            -122.273068      582  Subscriber   \n",
       "51256              37.800214            -122.253810     4914  Subscriber   \n",
       "55194              37.802746            -122.413579     5524    Customer   \n",
       "152927             37.770407            -122.391198     4794  Subscriber   \n",
       "97328              37.866418            -122.253799     5042  Subscriber   \n",
       "25889              37.795393            -122.404770     3319  Subscriber   \n",
       "75306              37.785434            -122.419622     5339  Subscriber   \n",
       "152665             37.794130            -122.394430     4647  Subscriber   \n",
       "164035             37.776639            -122.395526     5113  Subscriber   \n",
       "150200             37.801319            -122.262642     5414  Subscriber   \n",
       "63988              37.797320            -122.265320     4884  Subscriber   \n",
       "172084             37.776639            -122.395526     4756  Subscriber   \n",
       "9481               37.780955            -122.399749     5105  Subscriber   \n",
       "116217             37.781270            -122.418740     5013  Subscriber   \n",
       "5247               37.779047            -122.447291     5541    Customer   \n",
       "55982              37.795001            -122.399970     1226  Subscriber   \n",
       "24938              37.771793            -122.433708     2571    Customer   \n",
       "124365             37.789756            -122.394643     5032  Subscriber   \n",
       "168690             37.809013            -122.268247     4775  Subscriber   \n",
       "19188              37.754436            -122.404364     5524  Subscriber   \n",
       "46791              37.809013            -122.268247     4510  Subscriber   \n",
       "19887              37.755213            -122.420975     4826  Subscriber   \n",
       "113295             37.776619            -122.417385     4318  Subscriber   \n",
       "116797             37.868813            -122.258764     4913  Subscriber   \n",
       "89405              37.869360            -122.254337     5129  Subscriber   \n",
       "84614              37.755213            -122.420975     5031  Subscriber   \n",
       "26265              37.783899            -122.408445     5006  Subscriber   \n",
       "170220             37.763708            -122.415204     4659  Subscriber   \n",
       "\n",
       "       bike_share_for_all_trip  \n",
       "182579                      No  \n",
       "20039                       No  \n",
       "42768                       No  \n",
       "25024                       No  \n",
       "122816                     Yes  \n",
       "133150                      No  \n",
       "65735                       No  \n",
       "115208                      No  \n",
       "126039                      No  \n",
       "74835                       No  \n",
       "35361                       No  \n",
       "78962                       No  \n",
       "31653                       No  \n",
       "174679                      No  \n",
       "34012                       No  \n",
       "22405                       No  \n",
       "60455                       No  \n",
       "22940                       No  \n",
       "171726                      No  \n",
       "179329                      No  \n",
       "15827                       No  \n",
       "150222                      No  \n",
       "79191                       No  \n",
       "51256                       No  \n",
       "55194                       No  \n",
       "152927                      No  \n",
       "97328                       No  \n",
       "25889                       No  \n",
       "75306                       No  \n",
       "152665                      No  \n",
       "164035                      No  \n",
       "150200                      No  \n",
       "63988                       No  \n",
       "172084                      No  \n",
       "9481                        No  \n",
       "116217                      No  \n",
       "5247                        No  \n",
       "55982                       No  \n",
       "24938                       No  \n",
       "124365                      No  \n",
       "168690                      No  \n",
       "19188                       No  \n",
       "46791                       No  \n",
       "19887                       No  \n",
       "113295                      No  \n",
       "116797                      No  \n",
       "89405                      Yes  \n",
       "84614                       No  \n",
       "26265                       No  \n",
       "170220                      No  "
      ]
     },
     "execution_count": 3,
     "metadata": {},
     "output_type": "execute_result"
    }
   ],
   "source": [
    "data.sample(50)"
   ]
  },
  {
   "cell_type": "code",
   "execution_count": 4,
   "metadata": {
    "slideshow": {
     "slide_type": "subslide"
    }
   },
   "outputs": [
    {
     "data": {
      "text/plain": [
       "(192082, 14)"
      ]
     },
     "execution_count": 4,
     "metadata": {},
     "output_type": "execute_result"
    }
   ],
   "source": [
    "data.shape"
   ]
  },
  {
   "cell_type": "code",
   "execution_count": 5,
   "metadata": {
    "slideshow": {
     "slide_type": "subslide"
    }
   },
   "outputs": [
    {
     "name": "stdout",
     "output_type": "stream",
     "text": [
      "<class 'pandas.core.frame.DataFrame'>\n",
      "RangeIndex: 192082 entries, 0 to 192081\n",
      "Data columns (total 14 columns):\n",
      " #   Column                   Non-Null Count   Dtype  \n",
      "---  ------                   --------------   -----  \n",
      " 0   duration_sec             192082 non-null  int64  \n",
      " 1   start_time               192082 non-null  object \n",
      " 2   end_time                 192082 non-null  object \n",
      " 3   start_station_id         191834 non-null  float64\n",
      " 4   start_station_name       191834 non-null  object \n",
      " 5   start_station_latitude   192082 non-null  float64\n",
      " 6   start_station_longitude  192082 non-null  float64\n",
      " 7   end_station_id           191834 non-null  float64\n",
      " 8   end_station_name         191834 non-null  object \n",
      " 9   end_station_latitude     192082 non-null  float64\n",
      " 10  end_station_longitude    192082 non-null  float64\n",
      " 11  bike_id                  192082 non-null  int64  \n",
      " 12  user_type                192082 non-null  object \n",
      " 13  bike_share_for_all_trip  192082 non-null  object \n",
      "dtypes: float64(6), int64(2), object(6)\n",
      "memory usage: 20.5+ MB\n"
     ]
    }
   ],
   "source": [
    "data.info()"
   ]
  },
  {
   "cell_type": "code",
   "execution_count": 6,
   "metadata": {
    "slideshow": {
     "slide_type": "skip"
    }
   },
   "outputs": [
    {
     "data": {
      "text/html": [
       "<div>\n",
       "<style scoped>\n",
       "    .dataframe tbody tr th:only-of-type {\n",
       "        vertical-align: middle;\n",
       "    }\n",
       "\n",
       "    .dataframe tbody tr th {\n",
       "        vertical-align: top;\n",
       "    }\n",
       "\n",
       "    .dataframe thead th {\n",
       "        text-align: right;\n",
       "    }\n",
       "</style>\n",
       "<table border=\"1\" class=\"dataframe\">\n",
       "  <thead>\n",
       "    <tr style=\"text-align: right;\">\n",
       "      <th></th>\n",
       "      <th>duration_sec</th>\n",
       "      <th>start_station_id</th>\n",
       "      <th>start_station_latitude</th>\n",
       "      <th>start_station_longitude</th>\n",
       "      <th>end_station_id</th>\n",
       "      <th>end_station_latitude</th>\n",
       "      <th>end_station_longitude</th>\n",
       "      <th>bike_id</th>\n",
       "    </tr>\n",
       "  </thead>\n",
       "  <tbody>\n",
       "    <tr>\n",
       "      <th>count</th>\n",
       "      <td>192082.000000</td>\n",
       "      <td>191834.000000</td>\n",
       "      <td>192082.000000</td>\n",
       "      <td>192082.000000</td>\n",
       "      <td>191834.000000</td>\n",
       "      <td>192082.000000</td>\n",
       "      <td>192082.000000</td>\n",
       "      <td>192082.000000</td>\n",
       "    </tr>\n",
       "    <tr>\n",
       "      <th>mean</th>\n",
       "      <td>750.952473</td>\n",
       "      <td>132.841639</td>\n",
       "      <td>37.773438</td>\n",
       "      <td>-122.357820</td>\n",
       "      <td>131.218700</td>\n",
       "      <td>37.773570</td>\n",
       "      <td>-122.357419</td>\n",
       "      <td>4029.012609</td>\n",
       "    </tr>\n",
       "    <tr>\n",
       "      <th>std</th>\n",
       "      <td>1672.433843</td>\n",
       "      <td>109.662417</td>\n",
       "      <td>0.091433</td>\n",
       "      <td>0.109472</td>\n",
       "      <td>109.546275</td>\n",
       "      <td>0.091332</td>\n",
       "      <td>0.109058</td>\n",
       "      <td>1571.288901</td>\n",
       "    </tr>\n",
       "    <tr>\n",
       "      <th>min</th>\n",
       "      <td>61.000000</td>\n",
       "      <td>3.000000</td>\n",
       "      <td>37.317298</td>\n",
       "      <td>-122.453704</td>\n",
       "      <td>3.000000</td>\n",
       "      <td>37.317298</td>\n",
       "      <td>-122.453704</td>\n",
       "      <td>11.000000</td>\n",
       "    </tr>\n",
       "    <tr>\n",
       "      <th>25%</th>\n",
       "      <td>333.000000</td>\n",
       "      <td>43.000000</td>\n",
       "      <td>37.770407</td>\n",
       "      <td>-122.412408</td>\n",
       "      <td>41.000000</td>\n",
       "      <td>37.771058</td>\n",
       "      <td>-122.411726</td>\n",
       "      <td>3088.000000</td>\n",
       "    </tr>\n",
       "    <tr>\n",
       "      <th>50%</th>\n",
       "      <td>528.000000</td>\n",
       "      <td>98.000000</td>\n",
       "      <td>37.780955</td>\n",
       "      <td>-122.398438</td>\n",
       "      <td>95.000000</td>\n",
       "      <td>37.781010</td>\n",
       "      <td>-122.398436</td>\n",
       "      <td>4748.000000</td>\n",
       "    </tr>\n",
       "    <tr>\n",
       "      <th>75%</th>\n",
       "      <td>821.000000</td>\n",
       "      <td>211.000000</td>\n",
       "      <td>37.795913</td>\n",
       "      <td>-122.294837</td>\n",
       "      <td>203.000000</td>\n",
       "      <td>37.796248</td>\n",
       "      <td>-122.294837</td>\n",
       "      <td>5173.000000</td>\n",
       "    </tr>\n",
       "    <tr>\n",
       "      <th>max</th>\n",
       "      <td>84002.000000</td>\n",
       "      <td>385.000000</td>\n",
       "      <td>37.880222</td>\n",
       "      <td>-121.874119</td>\n",
       "      <td>385.000000</td>\n",
       "      <td>37.880222</td>\n",
       "      <td>-121.874119</td>\n",
       "      <td>6638.000000</td>\n",
       "    </tr>\n",
       "  </tbody>\n",
       "</table>\n",
       "</div>"
      ],
      "text/plain": [
       "        duration_sec  start_station_id  start_station_latitude  \\\n",
       "count  192082.000000     191834.000000           192082.000000   \n",
       "mean      750.952473        132.841639               37.773438   \n",
       "std      1672.433843        109.662417                0.091433   \n",
       "min        61.000000          3.000000               37.317298   \n",
       "25%       333.000000         43.000000               37.770407   \n",
       "50%       528.000000         98.000000               37.780955   \n",
       "75%       821.000000        211.000000               37.795913   \n",
       "max     84002.000000        385.000000               37.880222   \n",
       "\n",
       "       start_station_longitude  end_station_id  end_station_latitude  \\\n",
       "count            192082.000000   191834.000000         192082.000000   \n",
       "mean               -122.357820      131.218700             37.773570   \n",
       "std                   0.109472      109.546275              0.091332   \n",
       "min                -122.453704        3.000000             37.317298   \n",
       "25%                -122.412408       41.000000             37.771058   \n",
       "50%                -122.398438       95.000000             37.781010   \n",
       "75%                -122.294837      203.000000             37.796248   \n",
       "max                -121.874119      385.000000             37.880222   \n",
       "\n",
       "       end_station_longitude        bike_id  \n",
       "count          192082.000000  192082.000000  \n",
       "mean             -122.357419    4029.012609  \n",
       "std                 0.109058    1571.288901  \n",
       "min              -122.453704      11.000000  \n",
       "25%              -122.411726    3088.000000  \n",
       "50%              -122.398436    4748.000000  \n",
       "75%              -122.294837    5173.000000  \n",
       "max              -121.874119    6638.000000  "
      ]
     },
     "execution_count": 6,
     "metadata": {},
     "output_type": "execute_result"
    }
   ],
   "source": [
    "data.describe()"
   ]
  },
  {
   "cell_type": "code",
   "execution_count": 7,
   "metadata": {
    "slideshow": {
     "slide_type": "skip"
    }
   },
   "outputs": [
    {
     "data": {
      "text/plain": [
       "duration_sec                 0\n",
       "start_time                   0\n",
       "end_time                     0\n",
       "start_station_id           248\n",
       "start_station_name         248\n",
       "start_station_latitude       0\n",
       "start_station_longitude      0\n",
       "end_station_id             248\n",
       "end_station_name           248\n",
       "end_station_latitude         0\n",
       "end_station_longitude        0\n",
       "bike_id                      0\n",
       "user_type                    0\n",
       "bike_share_for_all_trip      0\n",
       "dtype: int64"
      ]
     },
     "execution_count": 7,
     "metadata": {},
     "output_type": "execute_result"
    }
   ],
   "source": [
    "data.isnull().sum()"
   ]
  },
  {
   "cell_type": "code",
   "execution_count": 8,
   "metadata": {
    "slideshow": {
     "slide_type": "skip"
    }
   },
   "outputs": [
    {
     "name": "stdout",
     "output_type": "stream",
     "text": [
      "<class 'pandas.core.frame.DataFrame'>\n",
      "Int64Index: 191834 entries, 0 to 192081\n",
      "Data columns (total 14 columns):\n",
      " #   Column                   Non-Null Count   Dtype  \n",
      "---  ------                   --------------   -----  \n",
      " 0   duration_sec             191834 non-null  int64  \n",
      " 1   start_time               191834 non-null  object \n",
      " 2   end_time                 191834 non-null  object \n",
      " 3   start_station_id         191834 non-null  float64\n",
      " 4   start_station_name       191834 non-null  object \n",
      " 5   start_station_latitude   191834 non-null  float64\n",
      " 6   start_station_longitude  191834 non-null  float64\n",
      " 7   end_station_id           191834 non-null  float64\n",
      " 8   end_station_name         191834 non-null  object \n",
      " 9   end_station_latitude     191834 non-null  float64\n",
      " 10  end_station_longitude    191834 non-null  float64\n",
      " 11  bike_id                  191834 non-null  int64  \n",
      " 12  user_type                191834 non-null  object \n",
      " 13  bike_share_for_all_trip  191834 non-null  object \n",
      "dtypes: float64(6), int64(2), object(6)\n",
      "memory usage: 22.0+ MB\n"
     ]
    }
   ],
   "source": [
    "data_clean = data[data['start_station_id'].isnull() == False]\n",
    "data_clean.info()"
   ]
  },
  {
   "cell_type": "markdown",
   "metadata": {
    "slideshow": {
     "slide_type": "slide"
    }
   },
   "source": [
    "#### Data Cleaning\n",
    "1. Since We already see our data doesn't consist any Missing values now.\n",
    "2. From assessing our data we see that there are some quality issues that need to be taken care.\n",
    "3. Changing datatypes of column into there right format:\n",
    "   - start_time/end_time: timestamp\n",
    "   - user_type: category\n",
    "   - bike_share_for_all_trip: category\n",
    "   - bike_id: object\n",
    "   - start_station_id: object\n",
    "   - end_station_id: object\n",
    "   \n",
    "\n"
   ]
  },
  {
   "cell_type": "code",
   "execution_count": 9,
   "metadata": {
    "slideshow": {
     "slide_type": "subslide"
    }
   },
   "outputs": [
    {
     "name": "stderr",
     "output_type": "stream",
     "text": [
      "C:\\Users\\DHRUV VARSHNEY\\anaconda3\\lib\\site-packages\\pandas\\core\\generic.py:5303: SettingWithCopyWarning: \n",
      "A value is trying to be set on a copy of a slice from a DataFrame.\n",
      "Try using .loc[row_indexer,col_indexer] = value instead\n",
      "\n",
      "See the caveats in the documentation: https://pandas.pydata.org/pandas-docs/stable/user_guide/indexing.html#returning-a-view-versus-a-copy\n",
      "  self[name] = value\n"
     ]
    }
   ],
   "source": [
    "data_clean.start_time = pd.to_datetime(data_clean.start_time)\n",
    "data_clean.end_time = pd.to_datetime(data_clean.end_time)"
   ]
  },
  {
   "cell_type": "code",
   "execution_count": 10,
   "metadata": {
    "slideshow": {
     "slide_type": "subslide"
    }
   },
   "outputs": [],
   "source": [
    "data_clean.user_type = data_clean.user_type.astype('category')\n",
    "data_clean.bike_share_for_all_trip = data_clean.bike_share_for_all_trip.astype('category')"
   ]
  },
  {
   "cell_type": "code",
   "execution_count": 11,
   "metadata": {
    "slideshow": {
     "slide_type": "subslide"
    }
   },
   "outputs": [],
   "source": [
    "data_clean.bike_id = data_clean.bike_id.astype(str)\n",
    "data_clean.start_station_id = data_clean.start_station_id.astype(str)\n",
    "data_clean.end_station_id = data_clean.end_station_id.astype(str)"
   ]
  },
  {
   "cell_type": "code",
   "execution_count": 12,
   "metadata": {
    "slideshow": {
     "slide_type": "subslide"
    }
   },
   "outputs": [
    {
     "name": "stdout",
     "output_type": "stream",
     "text": [
      "<class 'pandas.core.frame.DataFrame'>\n",
      "Int64Index: 191834 entries, 0 to 192081\n",
      "Data columns (total 14 columns):\n",
      " #   Column                   Non-Null Count   Dtype         \n",
      "---  ------                   --------------   -----         \n",
      " 0   duration_sec             191834 non-null  int64         \n",
      " 1   start_time               191834 non-null  datetime64[ns]\n",
      " 2   end_time                 191834 non-null  datetime64[ns]\n",
      " 3   start_station_id         191834 non-null  object        \n",
      " 4   start_station_name       191834 non-null  object        \n",
      " 5   start_station_latitude   191834 non-null  float64       \n",
      " 6   start_station_longitude  191834 non-null  float64       \n",
      " 7   end_station_id           191834 non-null  object        \n",
      " 8   end_station_name         191834 non-null  object        \n",
      " 9   end_station_latitude     191834 non-null  float64       \n",
      " 10  end_station_longitude    191834 non-null  float64       \n",
      " 11  bike_id                  191834 non-null  object        \n",
      " 12  user_type                191834 non-null  category      \n",
      " 13  bike_share_for_all_trip  191834 non-null  category      \n",
      "dtypes: category(2), datetime64[ns](2), float64(4), int64(1), object(5)\n",
      "memory usage: 19.4+ MB\n"
     ]
    }
   ],
   "source": [
    "data_clean.info()"
   ]
  },
  {
   "cell_type": "code",
   "execution_count": 13,
   "metadata": {
    "slideshow": {
     "slide_type": "skip"
    }
   },
   "outputs": [
    {
     "data": {
      "text/plain": [
       "Index(['duration_sec', 'start_time', 'end_time', 'start_station_id',\n",
       "       'start_station_name', 'start_station_latitude',\n",
       "       'start_station_longitude', 'end_station_id', 'end_station_name',\n",
       "       'end_station_latitude', 'end_station_longitude', 'bike_id', 'user_type',\n",
       "       'bike_share_for_all_trip'],\n",
       "      dtype='object')"
      ]
     },
     "execution_count": 13,
     "metadata": {},
     "output_type": "execute_result"
    }
   ],
   "source": [
    "data_clean.columns"
   ]
  },
  {
   "cell_type": "markdown",
   "metadata": {
    "slideshow": {
     "slide_type": "subslide"
    }
   },
   "source": [
    "**We can add columns for the weekday, starting time and ending time of the bike ride to understand the peek hours.\n",
    "And one column of minutes duration for figuring out the trips made by bike rider.**"
   ]
  },
  {
   "cell_type": "code",
   "execution_count": 14,
   "metadata": {
    "slideshow": {
     "slide_type": "subslide"
    }
   },
   "outputs": [
    {
     "name": "stderr",
     "output_type": "stream",
     "text": [
      "C:\\Users\\DHRUV VARSHNEY\\anaconda3\\lib\\site-packages\\ipykernel_launcher.py:2: SettingWithCopyWarning: \n",
      "A value is trying to be set on a copy of a slice from a DataFrame.\n",
      "Try using .loc[row_indexer,col_indexer] = value instead\n",
      "\n",
      "See the caveats in the documentation: https://pandas.pydata.org/pandas-docs/stable/user_guide/indexing.html#returning-a-view-versus-a-copy\n",
      "  \n"
     ]
    }
   ],
   "source": [
    "# Start time weekday\n",
    "data_clean['weekday'] = data_clean['start_time'].dt.strftime('%a')"
   ]
  },
  {
   "cell_type": "code",
   "execution_count": 15,
   "metadata": {
    "slideshow": {
     "slide_type": "subslide"
    }
   },
   "outputs": [
    {
     "name": "stderr",
     "output_type": "stream",
     "text": [
      "C:\\Users\\DHRUV VARSHNEY\\anaconda3\\lib\\site-packages\\ipykernel_launcher.py:2: SettingWithCopyWarning: \n",
      "A value is trying to be set on a copy of a slice from a DataFrame.\n",
      "Try using .loc[row_indexer,col_indexer] = value instead\n",
      "\n",
      "See the caveats in the documentation: https://pandas.pydata.org/pandas-docs/stable/user_guide/indexing.html#returning-a-view-versus-a-copy\n",
      "  \n",
      "C:\\Users\\DHRUV VARSHNEY\\anaconda3\\lib\\site-packages\\ipykernel_launcher.py:3: SettingWithCopyWarning: \n",
      "A value is trying to be set on a copy of a slice from a DataFrame.\n",
      "Try using .loc[row_indexer,col_indexer] = value instead\n",
      "\n",
      "See the caveats in the documentation: https://pandas.pydata.org/pandas-docs/stable/user_guide/indexing.html#returning-a-view-versus-a-copy\n",
      "  This is separate from the ipykernel package so we can avoid doing imports until\n"
     ]
    }
   ],
   "source": [
    "# Start and end time hour\n",
    "data_clean['start_time_hour'] = data_clean['start_time'].dt.hour\n",
    "data_clean['end_time_hour'] = data_clean['end_time'].dt.hour"
   ]
  },
  {
   "cell_type": "code",
   "execution_count": 16,
   "metadata": {
    "slideshow": {
     "slide_type": "subslide"
    }
   },
   "outputs": [
    {
     "name": "stderr",
     "output_type": "stream",
     "text": [
      "C:\\Users\\DHRUV VARSHNEY\\anaconda3\\lib\\site-packages\\ipykernel_launcher.py:2: SettingWithCopyWarning: \n",
      "A value is trying to be set on a copy of a slice from a DataFrame.\n",
      "Try using .loc[row_indexer,col_indexer] = value instead\n",
      "\n",
      "See the caveats in the documentation: https://pandas.pydata.org/pandas-docs/stable/user_guide/indexing.html#returning-a-view-versus-a-copy\n",
      "  \n",
      "C:\\Users\\DHRUV VARSHNEY\\anaconda3\\lib\\site-packages\\ipykernel_launcher.py:3: SettingWithCopyWarning: \n",
      "A value is trying to be set on a copy of a slice from a DataFrame.\n",
      "Try using .loc[row_indexer,col_indexer] = value instead\n",
      "\n",
      "See the caveats in the documentation: https://pandas.pydata.org/pandas-docs/stable/user_guide/indexing.html#returning-a-view-versus-a-copy\n",
      "  This is separate from the ipykernel package so we can avoid doing imports until\n"
     ]
    }
   ],
   "source": [
    "# Duration in seconds to duration in minutes\n",
    "data_clean['duration_min'] = data_clean['duration_sec']/60\n",
    "data_clean['duration_min'] = data_clean['duration_min'].astype(int)"
   ]
  },
  {
   "cell_type": "code",
   "execution_count": 17,
   "metadata": {
    "slideshow": {
     "slide_type": "skip"
    }
   },
   "outputs": [
    {
     "data": {
      "text/plain": [
       "Thu    38401\n",
       "Wed    35786\n",
       "Tue    31303\n",
       "Fri    28722\n",
       "Mon    28598\n",
       "Sat    16990\n",
       "Sun    12034\n",
       "Name: weekday, dtype: int64"
      ]
     },
     "execution_count": 17,
     "metadata": {},
     "output_type": "execute_result"
    }
   ],
   "source": [
    "data_clean.weekday.value_counts()"
   ]
  },
  {
   "cell_type": "markdown",
   "metadata": {
    "slideshow": {
     "slide_type": "subslide"
    }
   },
   "source": [
    "We can calculate the total distance travelled by the bike rides.\n",
    "This can be done using the 'Haversine Formula'.\n",
    "Since we have latitude and longitude in our data we can easily create a function to calculate distance between starting point and ending point.\n",
    "Here, we will add 2 columns distance in kms and distance in miles to understand the total distance travelled by bike rider.\n",
    "\n",
    "Reference taken from:\n",
    "\n",
    "https://github.com/chelseymarie6/Communicate-Data-Findings\n",
    "\n",
    "https://www.movable-type.co.uk/scripts/latlong.html"
   ]
  },
  {
   "cell_type": "code",
   "execution_count": 18,
   "metadata": {
    "slideshow": {
     "slide_type": "subslide"
    }
   },
   "outputs": [],
   "source": [
    "import math\n",
    "from math import radians, sin, cos, acos\n",
    "\n",
    "def distance(start, end):\n",
    "\n",
    "    lat1, long1 = start\n",
    "    lat2, long2 = end\n",
    "    radius = 6371\n",
    "    \n",
    "    latitude = math.radians(lat2 - lat1)\n",
    "    longitude = math.radians(long2 - long1)\n",
    "    \n",
    "    a = (math.sin(latitude / 2) * math.sin(latitude / 2) + math.cos(math.radians(lat1)) * math.cos(math.radians(lat2)) * math.sin(longitude / 2) * math.sin(longitude / 2))\n",
    "    c = 2 * math.atan2(math.sqrt(a), math.sqrt(1 - a))\n",
    "    d = radius * c\n",
    "\n",
    "    return d"
   ]
  },
  {
   "cell_type": "code",
   "execution_count": 19,
   "metadata": {
    "slideshow": {
     "slide_type": "subslide"
    }
   },
   "outputs": [
    {
     "name": "stderr",
     "output_type": "stream",
     "text": [
      "C:\\Users\\DHRUV VARSHNEY\\anaconda3\\lib\\site-packages\\ipykernel_launcher.py:1: SettingWithCopyWarning: \n",
      "A value is trying to be set on a copy of a slice from a DataFrame.\n",
      "Try using .loc[row_indexer,col_indexer] = value instead\n",
      "\n",
      "See the caveats in the documentation: https://pandas.pydata.org/pandas-docs/stable/user_guide/indexing.html#returning-a-view-versus-a-copy\n",
      "  \"\"\"Entry point for launching an IPython kernel.\n"
     ]
    }
   ],
   "source": [
    "data_clean['distance_in_km'] = data_clean.apply(lambda x: distance((x['start_station_latitude'], x['start_station_longitude']), (x['end_station_latitude'], x['end_station_longitude'])), axis=1)"
   ]
  },
  {
   "cell_type": "code",
   "execution_count": 20,
   "metadata": {
    "slideshow": {
     "slide_type": "subslide"
    }
   },
   "outputs": [
    {
     "name": "stderr",
     "output_type": "stream",
     "text": [
      "C:\\Users\\DHRUV VARSHNEY\\anaconda3\\lib\\site-packages\\ipykernel_launcher.py:2: SettingWithCopyWarning: \n",
      "A value is trying to be set on a copy of a slice from a DataFrame.\n",
      "Try using .loc[row_indexer,col_indexer] = value instead\n",
      "\n",
      "See the caveats in the documentation: https://pandas.pydata.org/pandas-docs/stable/user_guide/indexing.html#returning-a-view-versus-a-copy\n",
      "  \n"
     ]
    }
   ],
   "source": [
    "# Converting the kilometers to miles\n",
    "data_clean['distance_in_miles'] = data_clean['distance_in_km'] * 0.621371"
   ]
  },
  {
   "cell_type": "code",
   "execution_count": 21,
   "metadata": {
    "slideshow": {
     "slide_type": "skip"
    }
   },
   "outputs": [
    {
     "name": "stdout",
     "output_type": "stream",
     "text": [
      "(191834, 20)\n"
     ]
    },
    {
     "data": {
      "text/html": [
       "<div>\n",
       "<style scoped>\n",
       "    .dataframe tbody tr th:only-of-type {\n",
       "        vertical-align: middle;\n",
       "    }\n",
       "\n",
       "    .dataframe tbody tr th {\n",
       "        vertical-align: top;\n",
       "    }\n",
       "\n",
       "    .dataframe thead th {\n",
       "        text-align: right;\n",
       "    }\n",
       "</style>\n",
       "<table border=\"1\" class=\"dataframe\">\n",
       "  <thead>\n",
       "    <tr style=\"text-align: right;\">\n",
       "      <th></th>\n",
       "      <th>duration_sec</th>\n",
       "      <th>start_time</th>\n",
       "      <th>end_time</th>\n",
       "      <th>start_station_id</th>\n",
       "      <th>start_station_name</th>\n",
       "      <th>start_station_latitude</th>\n",
       "      <th>start_station_longitude</th>\n",
       "      <th>end_station_id</th>\n",
       "      <th>end_station_name</th>\n",
       "      <th>end_station_latitude</th>\n",
       "      <th>end_station_longitude</th>\n",
       "      <th>bike_id</th>\n",
       "      <th>user_type</th>\n",
       "      <th>bike_share_for_all_trip</th>\n",
       "      <th>weekday</th>\n",
       "      <th>start_time_hour</th>\n",
       "      <th>end_time_hour</th>\n",
       "      <th>duration_min</th>\n",
       "      <th>distance_in_km</th>\n",
       "      <th>distance_in_miles</th>\n",
       "    </tr>\n",
       "  </thead>\n",
       "  <tbody>\n",
       "    <tr>\n",
       "      <th>18521</th>\n",
       "      <td>847</td>\n",
       "      <td>2019-01-30 06:22:11.931</td>\n",
       "      <td>2019-01-30 06:36:19.551</td>\n",
       "      <td>181.0</td>\n",
       "      <td>Grand Ave at Webster St</td>\n",
       "      <td>37.811377</td>\n",
       "      <td>-122.265192</td>\n",
       "      <td>173.0</td>\n",
       "      <td>Shattuck Ave at 55th St</td>\n",
       "      <td>37.840364</td>\n",
       "      <td>-122.264488</td>\n",
       "      <td>5123</td>\n",
       "      <td>Subscriber</td>\n",
       "      <td>No</td>\n",
       "      <td>Wed</td>\n",
       "      <td>6</td>\n",
       "      <td>6</td>\n",
       "      <td>14</td>\n",
       "      <td>3.223857</td>\n",
       "      <td>2.003211</td>\n",
       "    </tr>\n",
       "    <tr>\n",
       "      <th>151154</th>\n",
       "      <td>360</td>\n",
       "      <td>2019-01-09 12:38:00.040</td>\n",
       "      <td>2019-01-09 12:44:00.801</td>\n",
       "      <td>86.0</td>\n",
       "      <td>Market St at Dolores St</td>\n",
       "      <td>37.769305</td>\n",
       "      <td>-122.426826</td>\n",
       "      <td>58.0</td>\n",
       "      <td>Market St at 10th St</td>\n",
       "      <td>37.776619</td>\n",
       "      <td>-122.417385</td>\n",
       "      <td>4404</td>\n",
       "      <td>Subscriber</td>\n",
       "      <td>No</td>\n",
       "      <td>Wed</td>\n",
       "      <td>12</td>\n",
       "      <td>12</td>\n",
       "      <td>6</td>\n",
       "      <td>1.161844</td>\n",
       "      <td>0.721936</td>\n",
       "    </tr>\n",
       "    <tr>\n",
       "      <th>59327</th>\n",
       "      <td>617</td>\n",
       "      <td>2019-01-24 18:00:38.021</td>\n",
       "      <td>2019-01-24 18:10:55.689</td>\n",
       "      <td>247.0</td>\n",
       "      <td>Fulton St at Bancroft Way</td>\n",
       "      <td>37.867789</td>\n",
       "      <td>-122.265896</td>\n",
       "      <td>269.0</td>\n",
       "      <td>Telegraph Ave at Carleton St</td>\n",
       "      <td>37.862320</td>\n",
       "      <td>-122.258801</td>\n",
       "      <td>330</td>\n",
       "      <td>Subscriber</td>\n",
       "      <td>No</td>\n",
       "      <td>Thu</td>\n",
       "      <td>18</td>\n",
       "      <td>18</td>\n",
       "      <td>10</td>\n",
       "      <td>0.870524</td>\n",
       "      <td>0.540919</td>\n",
       "    </tr>\n",
       "    <tr>\n",
       "      <th>104456</th>\n",
       "      <td>722</td>\n",
       "      <td>2019-01-18 04:32:41.395</td>\n",
       "      <td>2019-01-18 04:44:43.462</td>\n",
       "      <td>47.0</td>\n",
       "      <td>4th St at Harrison St</td>\n",
       "      <td>37.780955</td>\n",
       "      <td>-122.399749</td>\n",
       "      <td>81.0</td>\n",
       "      <td>Berry St at 4th St</td>\n",
       "      <td>37.775880</td>\n",
       "      <td>-122.393170</td>\n",
       "      <td>5555</td>\n",
       "      <td>Subscriber</td>\n",
       "      <td>Yes</td>\n",
       "      <td>Fri</td>\n",
       "      <td>4</td>\n",
       "      <td>4</td>\n",
       "      <td>12</td>\n",
       "      <td>0.807924</td>\n",
       "      <td>0.502020</td>\n",
       "    </tr>\n",
       "    <tr>\n",
       "      <th>29815</th>\n",
       "      <td>247</td>\n",
       "      <td>2019-01-28 18:46:57.358</td>\n",
       "      <td>2019-01-28 18:51:05.021</td>\n",
       "      <td>171.0</td>\n",
       "      <td>Rockridge BART Station</td>\n",
       "      <td>37.844279</td>\n",
       "      <td>-122.251900</td>\n",
       "      <td>166.0</td>\n",
       "      <td>College Ave at Alcatraz Ave</td>\n",
       "      <td>37.851376</td>\n",
       "      <td>-122.252523</td>\n",
       "      <td>3054</td>\n",
       "      <td>Subscriber</td>\n",
       "      <td>No</td>\n",
       "      <td>Mon</td>\n",
       "      <td>18</td>\n",
       "      <td>18</td>\n",
       "      <td>4</td>\n",
       "      <td>0.791015</td>\n",
       "      <td>0.491514</td>\n",
       "    </tr>\n",
       "  </tbody>\n",
       "</table>\n",
       "</div>"
      ],
      "text/plain": [
       "        duration_sec              start_time                end_time  \\\n",
       "18521            847 2019-01-30 06:22:11.931 2019-01-30 06:36:19.551   \n",
       "151154           360 2019-01-09 12:38:00.040 2019-01-09 12:44:00.801   \n",
       "59327            617 2019-01-24 18:00:38.021 2019-01-24 18:10:55.689   \n",
       "104456           722 2019-01-18 04:32:41.395 2019-01-18 04:44:43.462   \n",
       "29815            247 2019-01-28 18:46:57.358 2019-01-28 18:51:05.021   \n",
       "\n",
       "       start_station_id         start_station_name  start_station_latitude  \\\n",
       "18521             181.0    Grand Ave at Webster St               37.811377   \n",
       "151154             86.0    Market St at Dolores St               37.769305   \n",
       "59327             247.0  Fulton St at Bancroft Way               37.867789   \n",
       "104456             47.0      4th St at Harrison St               37.780955   \n",
       "29815             171.0     Rockridge BART Station               37.844279   \n",
       "\n",
       "        start_station_longitude end_station_id              end_station_name  \\\n",
       "18521               -122.265192          173.0       Shattuck Ave at 55th St   \n",
       "151154              -122.426826           58.0          Market St at 10th St   \n",
       "59327               -122.265896          269.0  Telegraph Ave at Carleton St   \n",
       "104456              -122.399749           81.0            Berry St at 4th St   \n",
       "29815               -122.251900          166.0   College Ave at Alcatraz Ave   \n",
       "\n",
       "        end_station_latitude  end_station_longitude bike_id   user_type  \\\n",
       "18521              37.840364            -122.264488    5123  Subscriber   \n",
       "151154             37.776619            -122.417385    4404  Subscriber   \n",
       "59327              37.862320            -122.258801     330  Subscriber   \n",
       "104456             37.775880            -122.393170    5555  Subscriber   \n",
       "29815              37.851376            -122.252523    3054  Subscriber   \n",
       "\n",
       "       bike_share_for_all_trip weekday  start_time_hour  end_time_hour  \\\n",
       "18521                       No     Wed                6              6   \n",
       "151154                      No     Wed               12             12   \n",
       "59327                       No     Thu               18             18   \n",
       "104456                     Yes     Fri                4              4   \n",
       "29815                       No     Mon               18             18   \n",
       "\n",
       "        duration_min  distance_in_km  distance_in_miles  \n",
       "18521             14        3.223857           2.003211  \n",
       "151154             6        1.161844           0.721936  \n",
       "59327             10        0.870524           0.540919  \n",
       "104456            12        0.807924           0.502020  \n",
       "29815              4        0.791015           0.491514  "
      ]
     },
     "execution_count": 21,
     "metadata": {},
     "output_type": "execute_result"
    }
   ],
   "source": [
    "print(data_clean.shape)\n",
    "data_clean.sample(5)"
   ]
  },
  {
   "cell_type": "markdown",
   "metadata": {
    "slideshow": {
     "slide_type": "slide"
    }
   },
   "source": [
    "#### What is the structure of your dataset?\n",
    "Dataset consist of 191834 bike ride with 20 features that are\n",
    "duration_sec, start_time, end_time, start_station_id, start_station_name, start_station_latitude, start_station_longitude, end_station_id, end_station_name, end_station_latitude, end_station_longitude, bike_id, user_type, bike_share_for_all_trip, weekday, start_time_hour, end_time_hour, duration_min, distance_in_km, distance_in_miles."
   ]
  },
  {
   "cell_type": "markdown",
   "metadata": {
    "slideshow": {
     "slide_type": "subslide"
    }
   },
   "source": [
    "#### What is/are the main feature(s) of interest in your dataset?"
   ]
  },
  {
   "cell_type": "markdown",
   "metadata": {
    "slideshow": {
     "slide_type": "subslide"
    }
   },
   "source": [
    "Main feature(s) of Interest are:\n",
    "1. Trip Duration.\n",
    "2. User Type.\n",
    "3. Start Station and End Station.\n",
    "4. How long does the average trip take.\n",
    "5. Which week day is more favourable by riders?\n",
    "6. Peak hours.\n",
    "\n",
    "And more we will look while exploration."
   ]
  },
  {
   "cell_type": "markdown",
   "metadata": {
    "slideshow": {
     "slide_type": "subslide"
    }
   },
   "source": [
    "#### What features in the dataset do you think will help support your investigation into your feature(s) of interest?"
   ]
  },
  {
   "cell_type": "markdown",
   "metadata": {
    "slideshow": {
     "slide_type": "subslide"
    }
   },
   "source": [
    "The start date / time and duration details for each trip should help you explain how long and when a trip normally takes. Member information such as user type will help us find out who the main target customer groups are, use the various groups to summarize bike user data or whether there are any special trends related to a particular group of riders."
   ]
  },
  {
   "cell_type": "markdown",
   "metadata": {
    "slideshow": {
     "slide_type": "slide"
    }
   },
   "source": [
    "### Univariate Exploration of Data"
   ]
  },
  {
   "cell_type": "code",
   "execution_count": 22,
   "metadata": {
    "slideshow": {
     "slide_type": "subslide"
    }
   },
   "outputs": [
    {
     "data": {
      "image/png": "[encoded data removed]",
      "text/plain": [
       "<Figure size 432x288 with 1 Axes>"
      ]
     },
     "metadata": {
      "needs_background": "light"
     },
     "output_type": "display_data"
    }
   ],
   "source": [
    "bin_edges = np.arange(0, 3600,60)\n",
    "\n",
    "plt.hist(data = data_clean, x = 'duration_sec', bins = bin_edges)\n",
    "\n",
    "plt.title(\"Ford Go Bike system rides duration in seconds\", y=1.02)\n",
    "plt.xlabel('Duration in Seconds')\n",
    "plt.ylabel('No. of Bike Rides');"
   ]
  },
  {
   "cell_type": "markdown",
   "metadata": {
    "slideshow": {
     "slide_type": "subslide"
    }
   },
   "source": [
    "**Observations:**\n",
    "Bike rides are of very short duration.But some of the rides last for more than 3500 secs also."
   ]
  },
  {
   "cell_type": "markdown",
   "metadata": {
    "slideshow": {
     "slide_type": "skip"
    }
   },
   "source": [
    "**Bike rides per weekday**"
   ]
  },
  {
   "cell_type": "code",
   "execution_count": 23,
   "metadata": {
    "slideshow": {
     "slide_type": "subslide"
    }
   },
   "outputs": [
    {
     "data": {
      "image/png": "[encoded data removed]",
      "text/plain": [
       "<Figure size 360x360 with 1 Axes>"
      ]
     },
     "metadata": {
      "needs_background": "light"
     },
     "output_type": "display_data"
    }
   ],
   "source": [
    "base_color = sb.color_palette('colorblind')[0]\n",
    "#Weekday usage of the Ford Go Bike system\n",
    "weekday = ['Mon', 'Tue', 'Wed', 'Thu', 'Fri', 'Sat', 'Sun']\n",
    "week = sb.catplot(data=data_clean, x='weekday', kind='count', color = base_color, order= weekday)\n",
    "week.set_axis_labels(\"Weekdays\", \"Number of Bike Rides\")\n",
    "week.fig.suptitle('Weekday usage of the Ford Go Bike system', y = 1.02);"
   ]
  },
  {
   "cell_type": "markdown",
   "metadata": {
    "slideshow": {
     "slide_type": "subslide"
    }
   },
   "source": [
    "**Observations:**\n",
    "Ford Go Bike System was popular on Thursdays followed by Tuesday and Wednesday for the Bike Rides."
   ]
  },
  {
   "cell_type": "markdown",
   "metadata": {
    "slideshow": {
     "slide_type": "skip"
    }
   },
   "source": [
    "**Peek Hours**"
   ]
  },
  {
   "cell_type": "code",
   "execution_count": 24,
   "metadata": {
    "slideshow": {
     "slide_type": "subslide"
    }
   },
   "outputs": [
    {
     "data": {
      "image/png": "[encoded data removed]",
      "text/plain": [
       "<Figure size 432x288 with 1 Axes>"
      ]
     },
     "metadata": {
      "needs_background": "light"
     },
     "output_type": "display_data"
    }
   ],
   "source": [
    "sb.countplot(data=data_clean, x='start_time_hour', color=base_color);\n",
    "plt.title(\"Hourly Usage of Ford Go Bike System\")\n",
    "plt.xlabel('start_time_hour');\n",
    "plt.ylabel('No. of Users');"
   ]
  },
  {
   "cell_type": "markdown",
   "metadata": {
    "slideshow": {
     "slide_type": "subslide"
    }
   },
   "source": [
    "**Observations:**\n",
    "Hourly distribution is bimodal, the system is mainly used 8 am and 5pm more. As it is most common time for all the office workers and school, college students to go and come back. "
   ]
  },
  {
   "cell_type": "code",
   "execution_count": 25,
   "metadata": {
    "slideshow": {
     "slide_type": "subslide"
    }
   },
   "outputs": [
    {
     "data": {
      "image/png": "[encoded data removed]",
      "text/plain": [
       "<Figure size 432x288 with 1 Axes>"
      ]
     },
     "metadata": {
      "needs_background": "light"
     },
     "output_type": "display_data"
    }
   ],
   "source": [
    "sb.countplot(data=data_clean, x='user_type', color=base_color);\n",
    "plt.title(\"Types of User Using Ford Go Bike System\")\n",
    "plt.xlabel('User Type');\n",
    "plt.ylabel('No. of Users');"
   ]
  },
  {
   "cell_type": "markdown",
   "metadata": {
    "slideshow": {
     "slide_type": "subslide"
    }
   },
   "source": [
    "**Observations:**\n",
    "Mostly users are Subscriber of Ford Go Bike System.  "
   ]
  },
  {
   "cell_type": "code",
   "execution_count": 26,
   "metadata": {
    "slideshow": {
     "slide_type": "subslide"
    }
   },
   "outputs": [
    {
     "data": {
      "image/png": "[encoded data removed]",
      "text/plain": [
       "<Figure size 432x288 with 1 Axes>"
      ]
     },
     "metadata": {
      "needs_background": "light"
     },
     "output_type": "display_data"
    }
   ],
   "source": [
    "sb.countplot(data=data_clean, x='bike_share_for_all_trip', color=base_color);\n",
    "plt.xlabel('Bike Share for All Trip');\n",
    "plt.ylabel('No. of Users');"
   ]
  },
  {
   "cell_type": "markdown",
   "metadata": {
    "slideshow": {
     "slide_type": "subslide"
    }
   },
   "source": [
    "**Observations:** Mostly Users do not use bike share for all trip."
   ]
  },
  {
   "cell_type": "code",
   "execution_count": 27,
   "metadata": {
    "slideshow": {
     "slide_type": "subslide"
    }
   },
   "outputs": [
    {
     "data": {
      "image/png": "[encoded data removed]",
      "text/plain": [
       "<Figure size 432x288 with 1 Axes>"
      ]
     },
     "metadata": {
      "needs_background": "light"
     },
     "output_type": "display_data"
    }
   ],
   "source": [
    "# Duration of the bike rides in MINUTES\n",
    "bin_edges = np.arange(0, 60, 1)\n",
    "ticks = [0, 5, 10, 15, 20, 25, 30,  35, 40, 45,50, 55,60]\n",
    "labels = ['{}'.format(val) for val in ticks]\n",
    "\n",
    "sb.distplot(data_clean['duration_min'], bins = bin_edges, kde = False, hist_kws = {'alpha' : 1});\n",
    "\n",
    "plt.title(\"Ford GoBike System Duration in Minutes\", y=1.02)\n",
    "plt.xlabel('Duration in Minutes')\n",
    "plt.xticks(ticks, labels)\n",
    "plt.ylabel('No. of Bike Rides');"
   ]
  },
  {
   "cell_type": "code",
   "execution_count": 28,
   "metadata": {
    "slideshow": {
     "slide_type": "subslide"
    }
   },
   "outputs": [
    {
     "data": {
      "text/plain": [
       "1.697794511167325"
      ]
     },
     "execution_count": 28,
     "metadata": {},
     "output_type": "execute_result"
    }
   ],
   "source": [
    "data_clean.distance_in_km.mean()"
   ]
  },
  {
   "cell_type": "code",
   "execution_count": 29,
   "metadata": {
    "slideshow": {
     "slide_type": "subslide"
    }
   },
   "outputs": [
    {
     "data": {
      "image/png": "[encoded data removed]",
      "text/plain": [
       "<Figure size 432x288 with 1 Axes>"
      ]
     },
     "metadata": {
      "needs_background": "light"
     },
     "output_type": "display_data"
    }
   ],
   "source": [
    "# Distance in kilometers travelled\n",
    "bin_edges = np.arange(0, 5, 1)\n",
    "plt.hist(data = data_clean, x = 'distance_in_km', bins = bin_edges);\n",
    "plt.title(\"Ford GoBike System Trip Distance in Miles\", y=1.02)\n",
    "plt.xlabel('Distance in Kms')\n",
    "plt.ylabel('No. of Bike Rides');"
   ]
  },
  {
   "cell_type": "markdown",
   "metadata": {
    "slideshow": {
     "slide_type": "subslide"
    }
   },
   "source": [
    "**Observations:**\n",
    "Mean distance travelled is 1.698 kms and with this distance there are around 70k bike rides.From histogram we can also see that for longer kms the Bike rides are less.Users using Ford Go Bike System for shorter distances for like 1-2kms."
   ]
  },
  {
   "cell_type": "code",
   "execution_count": 30,
   "metadata": {
    "slideshow": {
     "slide_type": "subslide"
    }
   },
   "outputs": [
    {
     "data": {
      "text/plain": [
       "1.0549602731985408"
      ]
     },
     "execution_count": 30,
     "metadata": {},
     "output_type": "execute_result"
    }
   ],
   "source": [
    "data_clean.distance_in_miles.mean()"
   ]
  },
  {
   "cell_type": "code",
   "execution_count": 31,
   "metadata": {
    "slideshow": {
     "slide_type": "subslide"
    }
   },
   "outputs": [
    {
     "data": {
      "image/png": "[encoded data removed]",
      "text/plain": [
       "<Figure size 432x288 with 1 Axes>"
      ]
     },
     "metadata": {
      "needs_background": "light"
     },
     "output_type": "display_data"
    }
   ],
   "source": [
    "# Distance in miles travelled\n",
    "bin_edges = np.arange(0, 5, 1)\n",
    "plt.hist(data = data_clean, x = 'distance_in_miles', bins = bin_edges);\n",
    "plt.title(\"Ford GoBike System Trip Distance in Miles\", y=1.02)\n",
    "plt.xlabel('Distance in Miles ')\n",
    "plt.ylabel('No. of Bike Rides');"
   ]
  },
  {
   "cell_type": "markdown",
   "metadata": {
    "slideshow": {
     "slide_type": "subslide"
    }
   },
   "source": [
    "**Discuss the distribution(s) of your variable(s) of interest. Were there any unusual points? Did you need to perform any transformations?**\n",
    "Following observations made from the above distributions:\n",
    "1. Bike rides are of very short duration that is 5-10 mins.But some of the rides last for more than 3500 secs also. \n",
    "2. Ford Go Bike System was popular on Thursdays followed by Tuesday and Wednesday for the Bike Rides.\n",
    "3. Hourly distribution is bimodal, the system is mainly used 8 am and 5pm more. As it is most common time for all the office workers and school, college students to go and come back. \n",
    "4. Mostly users are Subscriber of Ford Go Bike System.\n",
    "5. Mean distance travelled is 1.698 kms and with this distance there are around 70k bike rides.From histogram we can also see that for longer kms the Bike rides are less.Users using Ford Go Bike System for shorter distances for like 1-2kms.\n",
    "\n",
    "None of the features were there any unusual points.No transformation was needed luckily due to the straightforwardness of the data.\n"
   ]
  },
  {
   "cell_type": "markdown",
   "metadata": {
    "slideshow": {
     "slide_type": "subslide"
    }
   },
   "source": [
    "**Of the features you investigated, were there any unusual distributions? Did you perform any operations on the data to tidy, adjust, or change the form of the data? If so, why did you do this?**"
   ]
  },
  {
   "cell_type": "markdown",
   "metadata": {
    "slideshow": {
     "slide_type": "subslide"
    }
   },
   "source": [
    "Yes, we did perform some operations on the data on the data to tidy, adjust, or change the form of the data because:\n",
    "- There were some missing values in our data so we remove that rows.\n",
    "- our data we see that there are some quality issues\n",
    "- Changing datatypes of column into there right format:\n",
    "        * start_time/end_time: timestamp\n",
    "        * user_type: category\n",
    "        * bike_share_for_all_trip: category\n",
    "        * bike_id: object\n",
    "        * start_station_id: object\n",
    "        * end_station_id: object\n",
    "- We add columns for the weekday, starting time and ending time of the bike ride to understand the peek hours. And one column of minutes duration for figuring out the rides made by bike rider."
   ]
  },
  {
   "cell_type": "markdown",
   "metadata": {
    "slideshow": {
     "slide_type": "slide"
    }
   },
   "source": [
    "### Bivariate Exploration of Data"
   ]
  },
  {
   "cell_type": "code",
   "execution_count": 32,
   "metadata": {
    "slideshow": {
     "slide_type": "subslide"
    }
   },
   "outputs": [],
   "source": [
    "customer = data_clean.query('user_type == \"Customer\"')['bike_id'].count()\n",
    "subscriber = data_clean.query('user_type == \"Subscriber\"')['bike_id'].count()\n",
    "customer_proportion = customer / data_clean['bike_id'].count()\n",
    "subscriber_proportion = subscriber / data_clean['bike_id'].count()"
   ]
  },
  {
   "cell_type": "code",
   "execution_count": 33,
   "metadata": {
    "slideshow": {
     "slide_type": "subslide"
    }
   },
   "outputs": [
    {
     "data": {
      "image/png": "[encoded data removed]",
      "text/plain": [
       "<Figure size 432x288 with 1 Axes>"
      ]
     },
     "metadata": {},
     "output_type": "display_data"
    }
   ],
   "source": [
    "#plotting pie chart customer vs subscriber \n",
    "plt.subplot(1, 2, 2)\n",
    "\n",
    "labels = ['Customer', 'Subscriber']\n",
    "sizes = [customer_proportion, subscriber_proportion]\n",
    "explode = (0, 0.2)\n",
    "plt.pie(sizes, explode=explode, labels=labels,autopct='%1.1f%%', shadow=True, startangle=90)\n",
    "plt.axis('equal')\n",
    "plt.suptitle('Ford GoBike System Customer vs Subscriber ', y=1.02);"
   ]
  },
  {
   "cell_type": "markdown",
   "metadata": {
    "slideshow": {
     "slide_type": "subslide"
    }
   },
   "source": [
    "**Observation:**\n",
    "So, Ford GoBike System is mostly used by subscribers 87.9%. "
   ]
  },
  {
   "cell_type": "code",
   "execution_count": 34,
   "metadata": {
    "slideshow": {
     "slide_type": "subslide"
    }
   },
   "outputs": [
    {
     "data": {
      "image/png": "[encoded data removed]",
      "text/plain": [
       "<Figure size 720x360 with 2 Axes>"
      ]
     },
     "metadata": {
      "needs_background": "light"
     },
     "output_type": "display_data"
    }
   ],
   "source": [
    "base_color = sb.color_palette('colorblind')[0]\n",
    "#Weekday usage of the Ford Go Bike system per user type\n",
    "weekday = ['Mon', 'Tue', 'Wed', 'Thu', 'Fri', 'Sat', 'Sun']\n",
    "week = sb.catplot(data=data_clean, x='weekday',col = 'user_type',sharey = True, kind='count', color = base_color, order= weekday)\n",
    "week.set_axis_labels(\"Weekdays\", \"Number of Bike Rides\")\n",
    "week.set_titles(\"{col_name}\")\n",
    "week.fig.suptitle('Weekday usage of the Ford Go Bike system per user type', y = 1.02);"
   ]
  },
  {
   "cell_type": "markdown",
   "metadata": {
    "slideshow": {
     "slide_type": "subslide"
    }
   },
   "source": [
    "**Observation:**\n",
    "Here, we see that customer usually a occasional riders and using the Ford Go Bike system on holiday and weekend trips.\n",
    "Subscriber uses highly system and a sharp decline on the weekend."
   ]
  },
  {
   "cell_type": "code",
   "execution_count": 35,
   "metadata": {
    "slideshow": {
     "slide_type": "subslide"
    }
   },
   "outputs": [
    {
     "data": {
      "image/png": "[encoded data removed]",
      "text/plain": [
       "<Figure size 720x360 with 2 Axes>"
      ]
     },
     "metadata": {
      "needs_background": "light"
     },
     "output_type": "display_data"
    }
   ],
   "source": [
    "hours = sb.catplot(data=data_clean, x='start_time_hour',col = 'user_type',sharey = True, kind='count', color = base_color)\n",
    "hours.set_axis_labels(\"Hours\", \"Number of Bike Rides\")\n",
    "hours.set_titles(\"{col_name}\")\n",
    "hours.fig.suptitle('Hourly usage of the Ford Go Bike system per user type', y = 1.02);"
   ]
  },
  {
   "cell_type": "markdown",
   "metadata": {
    "slideshow": {
     "slide_type": "subslide"
    }
   },
   "source": [
    "**Observation:**\n",
    "This service is most frequently used by users around 8-9am and 5-6pm. This service is used by customers from 10am-5pm on weekends and 5-6pm on weekdays. Customers use this service for leisure time during the weekend and after work weekdays."
   ]
  },
  {
   "cell_type": "code",
   "execution_count": 36,
   "metadata": {
    "slideshow": {
     "slide_type": "subslide"
    }
   },
   "outputs": [
    {
     "data": {
      "image/png": "[encoded data removed]",
      "text/plain": [
       "<Figure size 432x288 with 1 Axes>"
      ]
     },
     "metadata": {
      "needs_background": "light"
     },
     "output_type": "display_data"
    }
   ],
   "source": [
    "df = data_clean.query('duration_min<30')\n",
    "sb.countplot(data=df, x='duration_min', hue='user_type');\n",
    "plt.xlabel('Duration in minutes');\n",
    "plt.ylabel('No. of Bike Rides');"
   ]
  },
  {
   "cell_type": "code",
   "execution_count": 37,
   "metadata": {
    "slideshow": {
     "slide_type": "subslide"
    }
   },
   "outputs": [
    {
     "data": {
      "image/png": "[encoded data removed]",
      "text/plain": [
       "<Figure size 720x360 with 2 Axes>"
      ]
     },
     "metadata": {
      "needs_background": "light"
     },
     "output_type": "display_data"
    }
   ],
   "source": [
    "df = data_clean.query('duration_min<30')\n",
    "mins = sb.catplot(data=df, x='duration_min',col = 'user_type', kind='box', color = base_color)\n",
    "mins.set_axis_labels(\"Duration in mins\", \"Number of Bike Rides\")\n",
    "mins.set_titles(\"{col_name}\")\n",
    "mins.fig.suptitle('Usage of the Ford Go Bike system per user type', y = 1.02);"
   ]
  },
  {
   "cell_type": "markdown",
   "metadata": {
    "slideshow": {
     "slide_type": "subslide"
    }
   },
   "source": [
    "**Observation:**\n",
    "Duration of Rides are longer for customers (Around 8-18 mins) as compare to Subscribers (Around 5-12 mins). This tells us that subscribers uses system for shortest span of time like for going school and office work."
   ]
  },
  {
   "cell_type": "code",
   "execution_count": 38,
   "metadata": {
    "slideshow": {
     "slide_type": "subslide"
    }
   },
   "outputs": [
    {
     "data": {
      "image/png": "[encoded data removed]",
      "text/plain": [
       "<Figure size 864x576 with 1 Axes>"
      ]
     },
     "metadata": {
      "needs_background": "light"
     },
     "output_type": "display_data"
    }
   ],
   "source": [
    "# Usage by Distance Customer vs. Subscriber\n",
    "plt = data_clean.groupby('user_type')['distance_in_km'].mean().plot(kind='barh', figsize=(12,8));\n",
    "\n",
    "plt.set_title('Ford Go Bike System Average Distance in Kms by User Type', y=1.02)\n",
    "plt.set_xlabel('User Type')\n",
    "plt.set_ylabel('Average Distance travelled by users in km');"
   ]
  },
  {
   "cell_type": "markdown",
   "metadata": {
    "slideshow": {
     "slide_type": "subslide"
    }
   },
   "source": [
    "**Observation:**\n",
    "Customers' mean distance is significantly higher than subscribers. Since data exploration indicates that subscribers use the bike sharing system for transportation purposes, this suggestion also means that the subscribers' riding distance is less than the customer's average trip."
   ]
  },
  {
   "cell_type": "markdown",
   "metadata": {
    "slideshow": {
     "slide_type": "subslide"
    }
   },
   "source": [
    "**Talk about some of the relationships you observed in this part of the investigation. How did the feature(s) of interest vary with other features in the dataset?**\n",
    "\n",
    "* The addition of the user type to the analysis revealed different usage of behavior between customers and subscribers.\n",
    "* There are a lot more subscriber(87.9 %) usage than customers(12.1%).\n",
    "* The data suggest that customers are casual riders such as tourists, or students on a school holiday or vacation. This is accurate if the usage of the customer increases on weekends and peaks in January.\n",
    "* Subscribers are daily commuters. They rent bikes more frequently than weekends during the weekdays and mostly around the time they go back from work or school (8-9am and 5-6pm).\n",
    "* Customers' mean distance is significantly higher than subscribers. Since data exploration indicates that subscribers use the bike sharing system for transportation purposes, this suggestion also means that the subscribers' riding distance is less than the customer's average trip.\n"
   ]
  },
  {
   "cell_type": "markdown",
   "metadata": {
    "slideshow": {
     "slide_type": "subslide"
    }
   },
   "source": [
    "**Did you observe any interesting relationships between the other features (not the main feature(s) of interest)?**"
   ]
  },
  {
   "cell_type": "markdown",
   "metadata": {
    "slideshow": {
     "slide_type": "subslide"
    }
   },
   "source": [
    "There is a difference between customers and subscribers about the duration of the ride. Rides for customers are usually longer than for subscribers, most likely due to the fact that they prefer bike rides around the weekends, which could be for long rides around the area. Subscribers primarily use the system for commute purposes so they prefer fast, short journeys to and from work."
   ]
  },
  {
   "cell_type": "markdown",
   "metadata": {
    "slideshow": {
     "slide_type": "slide"
    }
   },
   "source": [
    "### Multivariate Exploration of Data"
   ]
  },
  {
   "cell_type": "code",
   "execution_count": 39,
   "metadata": {
    "slideshow": {
     "slide_type": "subslide"
    }
   },
   "outputs": [
    {
     "name": "stderr",
     "output_type": "stream",
     "text": [
      "C:\\Users\\DHRUV VARSHNEY\\anaconda3\\lib\\site-packages\\seaborn\\axisgrid.py:728: UserWarning: Using the boxplot function without specifying `order` is likely to produce an incorrect plot.\n",
      "  warnings.warn(warning)\n"
     ]
    },
    {
     "data": {
      "text/plain": [
       "<seaborn.axisgrid.FacetGrid at 0x2230038ec48>"
      ]
     },
     "execution_count": 39,
     "metadata": {},
     "output_type": "execute_result"
    },
    {
     "data": {
      "image/png": "[encoded data removed]",
      "text/plain": [
       "<Figure size 576x288 with 2 Axes>"
      ]
     },
     "metadata": {
      "needs_background": "light"
     },
     "output_type": "display_data"
    }
   ],
   "source": [
    "g = sb.FacetGrid(data = data_clean, col ='user_type' ,height = 4 )\n",
    "g.map(sb.boxplot,'duration_sec','weekday')"
   ]
  },
  {
   "cell_type": "code",
   "execution_count": 40,
   "metadata": {
    "slideshow": {
     "slide_type": "subslide"
    }
   },
   "outputs": [
    {
     "data": {
      "image/png": "[encoded data removed]",
      "text/plain": [
       "<Figure size 432x288 with 1 Axes>"
      ]
     },
     "metadata": {
      "needs_background": "light"
     },
     "output_type": "display_data"
    }
   ],
   "source": [
    "sb.pointplot(data=data_clean, x='weekday', y='duration_min', hue='user_type', dodge=0.3, linestyles=\"\");"
   ]
  },
  {
   "cell_type": "markdown",
   "metadata": {
    "slideshow": {
     "slide_type": "subslide"
    }
   },
   "source": [
    "**Observations:**\n",
    "From the above plot it can be seen that on each day of the week, subscribers ride far shorter trips compared to customers. Both types of users have an obvious increase in trip duration over weekends on Saturdays and Sundays, especially for casual riders. Usage by subscribers appears to be more effective than total customers and maintained a very stable average period from Monday through Friday.\n"
   ]
  },
  {
   "cell_type": "code",
   "execution_count": 41,
   "metadata": {
    "slideshow": {
     "slide_type": "subslide"
    }
   },
   "outputs": [
    {
     "data": {
      "image/png": "[encoded data removed]",
      "text/plain": [
       "<Figure size 1559.75x360 with 2 Axes>"
      ]
     },
     "metadata": {
      "needs_background": "light"
     },
     "output_type": "display_data"
    }
   ],
   "source": [
    "g= sb.catplot(data=data_clean, x='weekday', col=\"user_type\", hue=\"bike_share_for_all_trip\", kind='count',order= weekday, sharey = False, height=5, aspect=2);\n",
    "g.set_axis_labels(\"Weekday\", \"Number of Bike Rides\")\n",
    "g._legend.set_title('Bike share for all trip')\n",
    "g.set_titles(\"{col_name}\")\n",
    "g.fig.suptitle('Ford GoBike System - Weekly Usage Per User Type and Share for all trip', y=1.02);"
   ]
  },
  {
   "cell_type": "markdown",
   "metadata": {
    "slideshow": {
     "slide_type": "subslide"
    }
   },
   "source": [
    "**Observations:**\n",
    "From the above plot it can be seen that subscriber shares a bike for all trip while on the other hand none customer do that."
   ]
  },
  {
   "cell_type": "markdown",
   "metadata": {
    "slideshow": {
     "slide_type": "subslide"
    }
   },
   "source": [
    "**Talk about some of the relationships you observed in this part of the investigation. Were there features that strengthened each other in terms of looking at your feature(s) of interest?**\n",
    "* The multivariate exploration supported some of the patterns discovered during the previous bivariate exploration as well as univariate exploration, the relationship between the plotted multiple variables is fully visualized and information is presented in combination.\n",
    "* The short usage period for subscribers corresponds to their high concentration on Monday through Friday rush hours, indicating that the use is primarily for work commutes.\n",
    "* The more comfortable and versatile pattern of customer use suggests that they are taking full advantage of the bike sharing system very differently from the subscribers, perhaps for city tour or recreational purposes, mostly over the weekends and in the afternoon.\n",
    "- Each day of the week, subscribers ride far shorter trips compared to customers. Both types of users have an obvious increase in trip duration over weekends on Saturdays and Sundays, especially for casual riders. Usage by subscribers appears to be more effective than total customers and maintained a very stable average period from Monday through Friday."
   ]
  },
  {
   "cell_type": "markdown",
   "metadata": {
    "slideshow": {
     "slide_type": "subslide"
    }
   },
   "source": [
    "**Were there any interesting or surprising interactions between features?**"
   ]
  },
  {
   "cell_type": "markdown",
   "metadata": {
    "slideshow": {
     "slide_type": "subslide"
    }
   },
   "source": [
    "Intresting interactions between features:\n",
    "More comfortable and versatile pattern of customer use suggests that they are taking full advantage of the bike sharing system very differently from the subscribers, perhaps for city tour or recreational purposes, mostly over the weekends and in the afternoon."
   ]
  },
  {
   "cell_type": "code",
   "execution_count": 45,
   "metadata": {
    "slideshow": {
     "slide_type": "skip"
    }
   },
   "outputs": [
    {
     "ename": "SyntaxError",
     "evalue": "invalid syntax (<ipython-input-45-cc1ccbec0af6>, line 1)",
     "output_type": "error",
     "traceback": [
      "\u001b[1;36m  File \u001b[1;32m\"<ipython-input-45-cc1ccbec0af6>\"\u001b[1;36m, line \u001b[1;32m1\u001b[0m\n\u001b[1;33m    jupyter nbconvert presentation.ipynb --to slides --template output-toggle.tpl\u001b[0m\n\u001b[1;37m                    ^\u001b[0m\n\u001b[1;31mSyntaxError\u001b[0m\u001b[1;31m:\u001b[0m invalid syntax\n"
     ]
    }
   ],
   "source": [
    "jupyter nbconvert presentation.ipynb --to slides --template output-toggle.tpl --post serve"
   ]
  },
  {
   "cell_type": "code",
   "execution_count": null,
   "metadata": {
    "slideshow": {
     "slide_type": "skip"
    }
   },
   "outputs": [],
   "source": []
  }
 ],
 "metadata": {
  "celltoolbar": "Slideshow",
  "kernelspec": {
   "display_name": "Python 3",
   "language": "python",
   "name": "python3"
  },
  "language_info": {
   "codemirror_mode": {
    "name": "ipython",
    "version": 3
   },
   "file_extension": ".py",
   "mimetype": "text/x-python",
   "name": "python",
   "nbconvert_exporter": "python",
   "pygments_lexer": "ipython3",
   "version": "3.7.7"
  }
 },
 "nbformat": 4,
 "nbformat_minor": 4
}
